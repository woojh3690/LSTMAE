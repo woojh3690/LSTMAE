{
 "cells": [
  {
   "cell_type": "code",
   "execution_count": 15,
   "metadata": {},
   "outputs": [],
   "source": [
    "import os\n",
    "\n",
    "import pandas as pd \n",
    "import numpy as np\n",
    "import matplotlib.pyplot as plt\n",
    "\n",
    "import tensorflow as tf\n",
    "from tensorflow.keras import models, layers, optimizers\n",
    "\n",
    "from sklearn.preprocessing import StandardScaler\n",
    "from sklearn.model_selection import train_test_split\n",
    "import joblib"
   ]
  },
  {
   "cell_type": "code",
   "execution_count": 16,
   "metadata": {},
   "outputs": [
    {
     "name": "stdout",
     "output_type": "stream",
     "text": [
      "2 Physical GPUs, 1 Logical GPU\n"
     ]
    }
   ],
   "source": [
    "gpu_number = 0 #### GPU number \n",
    "gpus = tf.config.list_physical_devices('GPU')\n",
    "if gpus:\n",
    "    tf.config.experimental.set_visible_devices(gpus[gpu_number], 'GPU') \n",
    "    logical_gpus = tf.config.experimental.list_logical_devices('GPU')\n",
    "    print(len(gpus), \"Physical GPUs,\", len(logical_gpus), \"Logical GPU\")"
   ]
  },
  {
   "cell_type": "code",
   "execution_count": 17,
   "metadata": {},
   "outputs": [],
   "source": [
    "# 폴더 안에 있는 모든 csv 파일을 읽어서 하나에 DataFrame 으로 만든다\n",
    "def read_csvs_in_dir(path):\n",
    "    dfs = []\n",
    "    dir_files = os.listdir(path)\n",
    "    file_names = list(filter(lambda x: not(x.startswith('.')), dir_files))\n",
    "    for file_name in sorted(file_names):\n",
    "        df = pd.read_csv(path + file_name, parse_dates=['날짜', '시간'], dayfirst=True, infer_datetime_format=True)\n",
    "        dfs.append(df)\n",
    "    return pd.concat(dfs)"
   ]
  },
  {
   "cell_type": "code",
   "execution_count": 18,
   "metadata": {},
   "outputs": [
    {
     "data": {
      "text/html": [
       "<div>\n",
       "<style scoped>\n",
       "    .dataframe tbody tr th:only-of-type {\n",
       "        vertical-align: middle;\n",
       "    }\n",
       "\n",
       "    .dataframe tbody tr th {\n",
       "        vertical-align: top;\n",
       "    }\n",
       "\n",
       "    .dataframe thead th {\n",
       "        text-align: right;\n",
       "    }\n",
       "</style>\n",
       "<table border=\"1\" class=\"dataframe\">\n",
       "  <thead>\n",
       "    <tr style=\"text-align: right;\">\n",
       "      <th></th>\n",
       "      <th>날짜</th>\n",
       "      <th>시간</th>\n",
       "      <th>대여개수</th>\n",
       "      <th>대기개수</th>\n",
       "      <th>기온</th>\n",
       "      <th>강수량</th>\n",
       "    </tr>\n",
       "  </thead>\n",
       "  <tbody>\n",
       "    <tr>\n",
       "      <th>21</th>\n",
       "      <td>2022-01-02</td>\n",
       "      <td>2022-09-05 21:00:00</td>\n",
       "      <td>1224</td>\n",
       "      <td>23478</td>\n",
       "      <td>-2.9</td>\n",
       "      <td>0.0</td>\n",
       "    </tr>\n",
       "    <tr>\n",
       "      <th>22</th>\n",
       "      <td>2022-01-02</td>\n",
       "      <td>2022-09-05 22:00:00</td>\n",
       "      <td>963</td>\n",
       "      <td>23739</td>\n",
       "      <td>-2.9</td>\n",
       "      <td>0.0</td>\n",
       "    </tr>\n",
       "    <tr>\n",
       "      <th>23</th>\n",
       "      <td>2022-01-02</td>\n",
       "      <td>2022-09-05 23:00:00</td>\n",
       "      <td>638</td>\n",
       "      <td>24064</td>\n",
       "      <td>-2.9</td>\n",
       "      <td>0.0</td>\n",
       "    </tr>\n",
       "    <tr>\n",
       "      <th>24</th>\n",
       "      <td>2022-02-02</td>\n",
       "      <td>2022-09-05 00:00:00</td>\n",
       "      <td>429</td>\n",
       "      <td>24273</td>\n",
       "      <td>-3.9</td>\n",
       "      <td>0.0</td>\n",
       "    </tr>\n",
       "    <tr>\n",
       "      <th>25</th>\n",
       "      <td>2022-02-02</td>\n",
       "      <td>2022-09-05 01:00:00</td>\n",
       "      <td>425</td>\n",
       "      <td>24277</td>\n",
       "      <td>-3.9</td>\n",
       "      <td>0.0</td>\n",
       "    </tr>\n",
       "  </tbody>\n",
       "</table>\n",
       "</div>"
      ],
      "text/plain": [
       "           날짜                  시간  대여개수   대기개수   기온  강수량\n",
       "21 2022-01-02 2022-09-05 21:00:00  1224  23478 -2.9  0.0\n",
       "22 2022-01-02 2022-09-05 22:00:00   963  23739 -2.9  0.0\n",
       "23 2022-01-02 2022-09-05 23:00:00   638  24064 -2.9  0.0\n",
       "24 2022-02-02 2022-09-05 00:00:00   429  24273 -3.9  0.0\n",
       "25 2022-02-02 2022-09-05 01:00:00   425  24277 -3.9  0.0"
      ]
     },
     "execution_count": 18,
     "metadata": {},
     "output_type": "execute_result"
    }
   ],
   "source": [
    "# 데이터 read\n",
    "df_train = read_csvs_in_dir('./data/train/')\n",
    "df_false = read_csvs_in_dir('./data/test/')\n",
    "df_false.tail()"
   ]
  },
  {
   "cell_type": "code",
   "execution_count": 19,
   "metadata": {},
   "outputs": [
    {
     "data": {
      "text/html": [
       "<div>\n",
       "<style scoped>\n",
       "    .dataframe tbody tr th:only-of-type {\n",
       "        vertical-align: middle;\n",
       "    }\n",
       "\n",
       "    .dataframe tbody tr th {\n",
       "        vertical-align: top;\n",
       "    }\n",
       "\n",
       "    .dataframe thead th {\n",
       "        text-align: right;\n",
       "    }\n",
       "</style>\n",
       "<table border=\"1\" class=\"dataframe\">\n",
       "  <thead>\n",
       "    <tr style=\"text-align: right;\">\n",
       "      <th></th>\n",
       "      <th>대여개수</th>\n",
       "      <th>대기개수</th>\n",
       "      <th>기온</th>\n",
       "      <th>강수량</th>\n",
       "    </tr>\n",
       "  </thead>\n",
       "  <tbody>\n",
       "    <tr>\n",
       "      <th>count</th>\n",
       "      <td>8760.000000</td>\n",
       "      <td>8760.000000</td>\n",
       "      <td>8760.000000</td>\n",
       "      <td>8760.000000</td>\n",
       "    </tr>\n",
       "    <tr>\n",
       "      <th>mean</th>\n",
       "      <td>3976.064612</td>\n",
       "      <td>24214.636758</td>\n",
       "      <td>12.896792</td>\n",
       "      <td>0.190114</td>\n",
       "    </tr>\n",
       "    <tr>\n",
       "      <th>std</th>\n",
       "      <td>3279.088212</td>\n",
       "      <td>4201.261344</td>\n",
       "      <td>10.891627</td>\n",
       "      <td>1.380343</td>\n",
       "    </tr>\n",
       "    <tr>\n",
       "      <th>min</th>\n",
       "      <td>23.000000</td>\n",
       "      <td>11130.000000</td>\n",
       "      <td>-13.900000</td>\n",
       "      <td>0.000000</td>\n",
       "    </tr>\n",
       "    <tr>\n",
       "      <th>25%</th>\n",
       "      <td>1235.000000</td>\n",
       "      <td>21491.750000</td>\n",
       "      <td>4.000000</td>\n",
       "      <td>0.000000</td>\n",
       "    </tr>\n",
       "    <tr>\n",
       "      <th>50%</th>\n",
       "      <td>3220.000000</td>\n",
       "      <td>23970.000000</td>\n",
       "      <td>14.000000</td>\n",
       "      <td>0.000000</td>\n",
       "    </tr>\n",
       "    <tr>\n",
       "      <th>75%</th>\n",
       "      <td>5771.500000</td>\n",
       "      <td>26725.000000</td>\n",
       "      <td>22.000000</td>\n",
       "      <td>0.000000</td>\n",
       "    </tr>\n",
       "    <tr>\n",
       "      <th>max</th>\n",
       "      <td>16653.000000</td>\n",
       "      <td>34510.000000</td>\n",
       "      <td>35.000000</td>\n",
       "      <td>43.900002</td>\n",
       "    </tr>\n",
       "  </tbody>\n",
       "</table>\n",
       "</div>"
      ],
      "text/plain": [
       "               대여개수          대기개수           기온          강수량\n",
       "count   8760.000000   8760.000000  8760.000000  8760.000000\n",
       "mean    3976.064612  24214.636758    12.896792     0.190114\n",
       "std     3279.088212   4201.261344    10.891627     1.380343\n",
       "min       23.000000  11130.000000   -13.900000     0.000000\n",
       "25%     1235.000000  21491.750000     4.000000     0.000000\n",
       "50%     3220.000000  23970.000000    14.000000     0.000000\n",
       "75%     5771.500000  26725.000000    22.000000     0.000000\n",
       "max    16653.000000  34510.000000    35.000000    43.900002"
      ]
     },
     "execution_count": 19,
     "metadata": {},
     "output_type": "execute_result"
    }
   ],
   "source": [
    "df_train.describe()"
   ]
  },
  {
   "cell_type": "code",
   "execution_count": 6,
   "metadata": {},
   "outputs": [
    {
     "data": {
      "text/html": [
       "<div>\n",
       "<style scoped>\n",
       "    .dataframe tbody tr th:only-of-type {\n",
       "        vertical-align: middle;\n",
       "    }\n",
       "\n",
       "    .dataframe tbody tr th {\n",
       "        vertical-align: top;\n",
       "    }\n",
       "\n",
       "    .dataframe thead th {\n",
       "        text-align: right;\n",
       "    }\n",
       "</style>\n",
       "<table border=\"1\" class=\"dataframe\">\n",
       "  <thead>\n",
       "    <tr style=\"text-align: right;\">\n",
       "      <th></th>\n",
       "      <th>날짜</th>\n",
       "      <th>시간</th>\n",
       "      <th>대여개수</th>\n",
       "      <th>대기개수</th>\n",
       "      <th>기온</th>\n",
       "      <th>강수량</th>\n",
       "    </tr>\n",
       "  </thead>\n",
       "  <tbody>\n",
       "    <tr>\n",
       "      <th>0</th>\n",
       "      <td>2</td>\n",
       "      <td>0</td>\n",
       "      <td>257</td>\n",
       "      <td>24445</td>\n",
       "      <td>-3.9</td>\n",
       "      <td>0.0</td>\n",
       "    </tr>\n",
       "    <tr>\n",
       "      <th>1</th>\n",
       "      <td>2</td>\n",
       "      <td>1</td>\n",
       "      <td>285</td>\n",
       "      <td>24417</td>\n",
       "      <td>-3.9</td>\n",
       "      <td>0.0</td>\n",
       "    </tr>\n",
       "    <tr>\n",
       "      <th>2</th>\n",
       "      <td>2</td>\n",
       "      <td>2</td>\n",
       "      <td>194</td>\n",
       "      <td>24508</td>\n",
       "      <td>-4.9</td>\n",
       "      <td>0.0</td>\n",
       "    </tr>\n",
       "    <tr>\n",
       "      <th>3</th>\n",
       "      <td>2</td>\n",
       "      <td>3</td>\n",
       "      <td>100</td>\n",
       "      <td>24602</td>\n",
       "      <td>-5.9</td>\n",
       "      <td>0.0</td>\n",
       "    </tr>\n",
       "    <tr>\n",
       "      <th>4</th>\n",
       "      <td>2</td>\n",
       "      <td>4</td>\n",
       "      <td>45</td>\n",
       "      <td>24657</td>\n",
       "      <td>-5.9</td>\n",
       "      <td>0.0</td>\n",
       "    </tr>\n",
       "  </tbody>\n",
       "</table>\n",
       "</div>"
      ],
      "text/plain": [
       "   날짜  시간  대여개수   대기개수   기온  강수량\n",
       "0   2   0   257  24445 -3.9  0.0\n",
       "1   2   1   285  24417 -3.9  0.0\n",
       "2   2   2   194  24508 -4.9  0.0\n",
       "3   2   3   100  24602 -5.9  0.0\n",
       "4   2   4    45  24657 -5.9  0.0"
      ]
     },
     "execution_count": 6,
     "metadata": {},
     "output_type": "execute_result"
    }
   ],
   "source": [
    "# 전처리\n",
    "def preprocess(df):\n",
    "    df['날짜'] = df['날짜'].dt.dayofyear\n",
    "    df['시간'] = df['시간'].dt.hour\n",
    "    return df\n",
    "\n",
    "df_true = preprocess(df_train)\n",
    "df_false = preprocess(df_false)\n",
    "df_false.head()"
   ]
  },
  {
   "cell_type": "code",
   "execution_count": 7,
   "metadata": {},
   "outputs": [],
   "source": [
    "input_true = df_true.values\n",
    "input_false = df_false.values\n",
    "\n",
    "timesteps = 24\n",
    "n_features = input_true.shape[1]"
   ]
  },
  {
   "cell_type": "code",
   "execution_count": 8,
   "metadata": {},
   "outputs": [],
   "source": [
    "# 3차원화\n",
    "def temporalize(X, timesteps):\n",
    "\toutput_X = []\n",
    "\tfor i in range(len(X) - timesteps - 1):\n",
    "\t\tt = []\n",
    "\t\tfor j in range(1, timesteps + 1):\n",
    "\t\t\t# Gather the past records upto the lookback period\n",
    "\t\t\tt.append(X[[(i + j + 1)], :])\n",
    "\t\toutput_X.append(t)\n",
    "\treturn np.squeeze(np.array(output_X))"
   ]
  },
  {
   "cell_type": "code",
   "execution_count": 9,
   "metadata": {},
   "outputs": [
    {
     "name": "stdout",
     "output_type": "stream",
     "text": [
      "(24, 6)\n"
     ]
    }
   ],
   "source": [
    "x_true = temporalize(input_true, timesteps)\n",
    "x_false = temporalize(input_false, timesteps)\n",
    "print(x_false.shape)"
   ]
  },
  {
   "cell_type": "code",
   "execution_count": 10,
   "metadata": {},
   "outputs": [
    {
     "name": "stdout",
     "output_type": "stream",
     "text": [
      "(8735, 24, 6)\n"
     ]
    }
   ],
   "source": [
    "print(x_true.shape)"
   ]
  },
  {
   "cell_type": "code",
   "execution_count": 11,
   "metadata": {},
   "outputs": [
    {
     "name": "stdout",
     "output_type": "stream",
     "text": [
      "(1, 24, 6)\n"
     ]
    }
   ],
   "source": [
    "x_true = temporalize(input_true, timesteps)\n",
    "x_false = np.array([temporalize(input_false, timesteps)])\n",
    "print(x_false.shape)"
   ]
  },
  {
   "cell_type": "code",
   "execution_count": 12,
   "metadata": {},
   "outputs": [],
   "source": [
    "def flatten(X):\n",
    "    flattened_X = np.empty((X.shape[0], X.shape[2]))  # sample x features array.\n",
    "    for i in range(X.shape[0]):\n",
    "        flattened_X[i] = X[i, (X.shape[1]-1), :]\n",
    "    return(flattened_X)\n",
    "\n",
    "def scale(X, scaler):\n",
    "    for i in range(X.shape[0]):\n",
    "        X[i, :, :] = scaler.transform(X[i, :, :])\n",
    "    return X\n",
    "\n",
    "def deScale(X, scaler):\n",
    "    for i in range(X.shape[0]):\n",
    "        X[i, :, :] = scaler.inverse_transform(X[i, :, :])\n",
    "    return X"
   ]
  },
  {
   "cell_type": "code",
   "execution_count": 13,
   "metadata": {},
   "outputs": [
    {
     "name": "stdout",
     "output_type": "stream",
     "text": [
      "(8735, 24, 6)\n"
     ]
    }
   ],
   "source": [
    "# 스케일링\n",
    "scaler = StandardScaler().fit(flatten(x_true))\n",
    "\n",
    "x_scale_true = scale(x_true, scaler)\n",
    "x_scale_false = scale(x_false, scaler)\n",
    "\n",
    "joblib.dump(scaler, \"./saved_model/scaler.pkl\")\n",
    "print(x_scale_true.shape)"
   ]
  },
  {
   "cell_type": "code",
   "execution_count": 14,
   "metadata": {},
   "outputs": [
    {
     "name": "stdout",
     "output_type": "stream",
     "text": [
      "(8735, 24, 6)\n"
     ]
    }
   ],
   "source": [
    "print(x_true.shape)"
   ]
  },
  {
   "cell_type": "code",
   "execution_count": null,
   "metadata": {},
   "outputs": [],
   "source": [
    "x_train, x_valid = train_test_split(x_scale_true, test_size=0.2)\n",
    "print(x_train.shape)"
   ]
  },
  {
   "cell_type": "code",
   "execution_count": null,
   "metadata": {},
   "outputs": [],
   "source": [
    "epochs = 100000\n",
    "batch = 8192\n",
    "lr = 0.001"
   ]
  },
  {
   "cell_type": "code",
   "execution_count": null,
   "metadata": {},
   "outputs": [],
   "source": [
    "lstm_ae = models.Sequential()\n",
    "# Encoder\n",
    "lstm_ae.add(layers.LSTM(128, input_shape=(timesteps, n_features), return_sequences=True))\n",
    "lstm_ae.add(layers.LSTM(64, return_sequences=True))\n",
    "lstm_ae.add(layers.LSTM(32, return_sequences=True))\n",
    "lstm_ae.add(layers.LSTM(16, return_sequences=False))\n",
    "lstm_ae.add(layers.RepeatVector(timesteps))\n",
    "# Decoder\n",
    "lstm_ae.add(layers.LSTM(16, return_sequences=True))\n",
    "lstm_ae.add(layers.LSTM(32, return_sequences=True))\n",
    "lstm_ae.add(layers.LSTM(64, return_sequences=True))\n",
    "lstm_ae.add(layers.LSTM(128, return_sequences=True))\n",
    "lstm_ae.add(layers.TimeDistributed(layers.Dense(n_features)))\n",
    "\n",
    "lstm_ae.summary()"
   ]
  },
  {
   "cell_type": "code",
   "execution_count": 174,
   "metadata": {},
   "outputs": [
    {
     "name": "stdout",
     "output_type": "stream",
     "text": [
      "Model: \"sequential\"\n",
      "_________________________________________________________________\n",
      " Layer (type)                Output Shape              Param #   \n",
      "=================================================================\n",
      " lstm (LSTM)                 (None, 24, 128)           69120     \n",
      "                                                                 \n",
      " lstm_1 (LSTM)               (None, 24, 64)            49408     \n",
      "                                                                 \n",
      " lstm_2 (LSTM)               (None, 24, 32)            12416     \n",
      "                                                                 \n",
      " lstm_3 (LSTM)               (None, 16)                3136      \n",
      "                                                                 \n",
      " repeat_vector (RepeatVector  (None, 24, 16)           0         \n",
      " )                                                               \n",
      "                                                                 \n",
      " lstm_4 (LSTM)               (None, 24, 16)            2112      \n",
      "                                                                 \n",
      " lstm_5 (LSTM)               (None, 24, 32)            6272      \n",
      "                                                                 \n",
      " lstm_6 (LSTM)               (None, 24, 64)            24832     \n",
      "                                                                 \n",
      " lstm_7 (LSTM)               (None, 24, 128)           98816     \n",
      "                                                                 \n",
      " time_distributed (TimeDistr  (None, 24, 6)            774       \n",
      " ibuted)                                                         \n",
      "                                                                 \n",
      "=================================================================\n",
      "Total params: 266,886\n",
      "Trainable params: 266,886\n",
      "Non-trainable params: 0\n",
      "_________________________________________________________________\n"
     ]
    }
   ],
   "source": [
    "# 학습된 모델 로딩\n",
    "lstm_ae = tf.keras.models.load_model('./saved_model/v2/')\n",
    "lstm_ae.summary()"
   ]
  },
  {
   "cell_type": "code",
   "execution_count": null,
   "metadata": {},
   "outputs": [],
   "source": [
    "# compile\n",
    "lstm_ae.compile(loss='mse', optimizer=optimizers.Adam(lr))\n",
    "\n",
    "# fit\n",
    "history = lstm_ae.fit(x_train, x_train,\n",
    "                     epochs=epochs, batch_size=batch,\n",
    "                     validation_data=(x_valid, x_valid))"
   ]
  },
  {
   "cell_type": "code",
   "execution_count": null,
   "metadata": {},
   "outputs": [],
   "source": [
    "plt.plot(history.history['loss'], label='train loss')\n",
    "plt.plot(history.history['val_loss'], label='valid loss')\n",
    "plt.legend()\n",
    "plt.xlabel('Epoch'); plt.ylabel('loss')\n",
    "plt.show()"
   ]
  },
  {
   "cell_type": "code",
   "execution_count": 175,
   "metadata": {},
   "outputs": [
    {
     "name": "stdout",
     "output_type": "stream",
     "text": [
      "1/1 [==============================] - 2s 2s/step\n",
      "(1, 24, 6)\n"
     ]
    }
   ],
   "source": [
    "predict_false = lstm_ae.predict(x_scale_false)\n",
    "print(predict_false.shape)"
   ]
  },
  {
   "cell_type": "code",
   "execution_count": 183,
   "metadata": {},
   "outputs": [
    {
     "name": "stdout",
     "output_type": "stream",
     "text": [
      "[[ 3.16197006e+01  7.89266772e-01  5.06721175e+02  2.43081444e+04\n",
      "  -5.75459755e+00 -2.06221405e-02]]\n"
     ]
    }
   ],
   "source": [
    "inverse_pre_false = scaler.inverse_transform(flatten(predict_false))\n",
    "print(inverse_pre_false)"
   ]
  },
  {
   "cell_type": "code",
   "execution_count": 186,
   "metadata": {},
   "outputs": [
    {
     "name": "stdout",
     "output_type": "stream",
     "text": [
      "[[ 3.3000e+01  1.0000e+00  4.2500e+02  2.4277e+04 -3.9000e+00  0.0000e+00]]\n"
     ]
    }
   ],
   "source": [
    "inverse_false = scaler.inverse_transform(flatten(x_scale_false))\n",
    "print(inverse_false)"
   ]
  },
  {
   "cell_type": "code",
   "execution_count": 190,
   "metadata": {},
   "outputs": [
    {
     "name": "stdout",
     "output_type": "stream",
     "text": [
      "[1275.61906008]\n"
     ]
    }
   ],
   "source": [
    "mse_false = np.mean(np.power(inverse_false - inverse_pre_false, 2), axis=1)\n",
    "print(mse_false)"
   ]
  },
  {
   "cell_type": "code",
   "execution_count": 192,
   "metadata": {},
   "outputs": [
    {
     "data": {
      "text/plain": [
       "array([[1.90522644e+00, 4.44084932e-02, 6.67835052e+03, 9.69974245e+02,\n",
       "        3.43953206e+00, 4.25272680e-04]])"
      ]
     },
     "execution_count": 192,
     "metadata": {},
     "output_type": "execute_result"
    }
   ],
   "source": [
    "np.power(inverse_false - inverse_pre_false, 2)"
   ]
  },
  {
   "cell_type": "code",
   "execution_count": 188,
   "metadata": {},
   "outputs": [
    {
     "name": "stdout",
     "output_type": "stream",
     "text": [
      "[0.00517252]\n"
     ]
    }
   ],
   "source": [
    "mse_false = np.mean(np.power(flatten(x_scale_false) - flatten(predict_false), 2), axis=1)\n",
    "print(mse_false)"
   ]
  },
  {
   "cell_type": "code",
   "execution_count": 72,
   "metadata": {},
   "outputs": [
    {
     "name": "stderr",
     "output_type": "stream",
     "text": [
      "2022-08-08 09:03:06.653677: I tensorflow/stream_executor/cuda/cuda_dnn.cc:384] Loaded cuDNN version 8100\n"
     ]
    },
    {
     "name": "stdout",
     "output_type": "stream",
     "text": [
      "1/1 [==============================] - 3s 3s/step\n"
     ]
    },
    {
     "data": {
      "image/png": "[encoded data removed]",
      "text/plain": [
       "<Figure size 432x288 with 1 Axes>"
      ]
     },
     "metadata": {
      "needs_background": "light"
     },
     "output_type": "display_data"
    }
   ],
   "source": [
    "predict_false = lstm_ae.predict(x_scale_false)\n",
    "mse_false = np.mean(np.power(flatten(x_scale_false) - flatten(predict_false), 2), axis=1)\n",
    "\n",
    "plt.plot(np.linspace(0, len(mse_false)-1, len(mse_false)), mse_false)\n",
    "#plt.ylim([0, 2])\n",
    "plt.show()"
   ]
  },
  {
   "cell_type": "code",
   "execution_count": null,
   "metadata": {},
   "outputs": [],
   "source": [
    "predict_valid = lstm_ae.predict(x_valid)\n",
    "mse_valid = np.mean(np.power(flatten(x_valid) - flatten(predict_valid), 2), axis=1)\n",
    "\n",
    "plt.plot(np.linspace(0, len(mse_valid)-1, len(mse_valid)), mse_valid)\n",
    "plt.ylim([0, 2])\n",
    "plt.show()"
   ]
  },
  {
   "cell_type": "code",
   "execution_count": null,
   "metadata": {},
   "outputs": [],
   "source": [
    "# 특정 mse 기준으로 어떻게 데이터가 나뉘는지 확인\n",
    "threshold_mse = 0.4\n",
    "\n",
    "print(predict_false.shape)"
   ]
  },
  {
   "cell_type": "code",
   "execution_count": null,
   "metadata": {},
   "outputs": [],
   "source": [
    "false_but_true = x_scale_false[mse_false <= threshold_mse].shape[0]\n",
    "false_but_false = x_scale_false[mse_false > threshold_mse].shape[0]\n",
    "true_but_true = x_valid[mse_valid <= threshold_mse].shape[0]\n",
    "true_but_false = x_valid[mse_valid > threshold_mse].shape[0]\n",
    "print(false_but_true)\n",
    "print(false_but_false)\n",
    "print(true_but_true)\n",
    "print(true_but_false)"
   ]
  },
  {
   "cell_type": "code",
   "execution_count": 160,
   "metadata": {},
   "outputs": [
    {
     "ename": "NameError",
     "evalue": "name 'true_but_true' is not defined",
     "output_type": "error",
     "traceback": [
      "\u001b[0;31m---------------------------------------------------------------------------\u001b[0m",
      "\u001b[0;31mNameError\u001b[0m                                 Traceback (most recent call last)",
      "\u001b[1;32mc:\\Users\\user\\Desktop\\LSTMAE\\lstm_ae.ipynb 셀 33\u001b[0m in \u001b[0;36m<cell line: 2>\u001b[0;34m()\u001b[0m\n\u001b[1;32m      <a href='vscode-notebook-cell:/c%3A/Users/user/Desktop/LSTMAE/lstm_ae.ipynb#X44sZmlsZQ%3D%3D?line=0'>1</a>\u001b[0m \u001b[39m# 정밀도&재현율 계산\u001b[39;00m\n\u001b[0;32m----> <a href='vscode-notebook-cell:/c%3A/Users/user/Desktop/LSTMAE/lstm_ae.ipynb#X44sZmlsZQ%3D%3D?line=1'>2</a>\u001b[0m \u001b[39mprint\u001b[39m(\u001b[39m\"\u001b[39m\u001b[39m정밀도 : \u001b[39m\u001b[39m\"\u001b[39m, true_but_true\u001b[39m/\u001b[39m(true_but_true \u001b[39m+\u001b[39m false_but_true))\n\u001b[1;32m      <a href='vscode-notebook-cell:/c%3A/Users/user/Desktop/LSTMAE/lstm_ae.ipynb#X44sZmlsZQ%3D%3D?line=2'>3</a>\u001b[0m \u001b[39mprint\u001b[39m(\u001b[39m\"\u001b[39m\u001b[39m재현율 : \u001b[39m\u001b[39m\"\u001b[39m, true_but_true\u001b[39m/\u001b[39m(true_but_true \u001b[39m+\u001b[39m true_but_false))\n",
      "\u001b[0;31mNameError\u001b[0m: name 'true_but_true' is not defined"
     ]
    }
   ],
   "source": [
    "# 정밀도&재현율 계산\n",
    "print(\"정밀도 : \", true_but_true/(true_but_true + false_but_true))\n",
    "print(\"재현율 : \", true_but_true/(true_but_true + true_but_false))"
   ]
  },
  {
   "cell_type": "code",
   "execution_count": null,
   "metadata": {},
   "outputs": [],
   "source": [
    "def createDf(array):\n",
    "    return pd.DataFrame(array, columns=[\"날짜\", \"시간\", \"대여개수\", \"대기개수\", \"기온\", \"강수량\"])\n",
    "\n",
    "dfs = []\n",
    "for one_input in deScale(false_but_true, scaler):\n",
    "    dfs.append(createDf(one_input))\n",
    "dfs[0].head()"
   ]
  },
  {
   "cell_type": "code",
   "execution_count": null,
   "metadata": {},
   "outputs": [],
   "source": [
    "# 모델 저장\n",
    "lstm_ae.save('saved_model/v3')"
   ]
  },
  {
   "cell_type": "code",
   "execution_count": null,
   "metadata": {},
   "outputs": [],
   "source": []
  }
 ],
 "metadata": {
  "kernelspec": {
   "display_name": "Python 3 (ipykernel)",
   "language": "python",
   "name": "python3"
  },
  "orig_nbformat": 4,
  "vscode": {
   "interpreter": {
    "hash": "a40abf0e8e626068dc1e9bd544b994fd0b32c1b4bc99836ffc89da51cc3d61ca"
   }
  }
 },
 "nbformat": 4,
 "nbformat_minor": 2
}
