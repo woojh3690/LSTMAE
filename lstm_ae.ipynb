{
 "cells": [
  {
   "cell_type": "code",
   "execution_count": 1,
   "metadata": {},
   "outputs": [],
   "source": [
    "import os\n",
    "\n",
    "import pandas as pd \n",
    "import numpy as np\n",
    "import matplotlib.pyplot as plt\n",
    "\n",
    "import tensorflow as tf\n",
    "from tensorflow.keras import models, layers, optimizers\n",
    "\n",
    "from sklearn.preprocessing import StandardScaler\n",
    "from sklearn.model_selection import train_test_split"
   ]
  },
  {
   "cell_type": "code",
   "execution_count": 2,
   "metadata": {},
   "outputs": [
    {
     "name": "stderr",
     "output_type": "stream",
     "text": [
      "2022-08-04 04:37:21.674733: I tensorflow/stream_executor/cuda/cuda_gpu_executor.cc:975] successful NUMA node read from SysFS had negative value (-1), but there must be at least one NUMA node, so returning NUMA node zero\n",
      "2022-08-04 04:37:21.675184: I tensorflow/stream_executor/cuda/cuda_gpu_executor.cc:975] successful NUMA node read from SysFS had negative value (-1), but there must be at least one NUMA node, so returning NUMA node zero\n",
      "2022-08-04 04:37:21.680212: I tensorflow/stream_executor/cuda/cuda_gpu_executor.cc:975] successful NUMA node read from SysFS had negative value (-1), but there must be at least one NUMA node, so returning NUMA node zero\n",
      "2022-08-04 04:37:21.680663: I tensorflow/stream_executor/cuda/cuda_gpu_executor.cc:975] successful NUMA node read from SysFS had negative value (-1), but there must be at least one NUMA node, so returning NUMA node zero\n",
      "2022-08-04 04:37:21.681087: I tensorflow/stream_executor/cuda/cuda_gpu_executor.cc:975] successful NUMA node read from SysFS had negative value (-1), but there must be at least one NUMA node, so returning NUMA node zero\n",
      "2022-08-04 04:37:21.681497: I tensorflow/stream_executor/cuda/cuda_gpu_executor.cc:975] successful NUMA node read from SysFS had negative value (-1), but there must be at least one NUMA node, so returning NUMA node zero\n"
     ]
    },
    {
     "data": {
      "text/plain": [
       "[PhysicalDevice(name='/physical_device:GPU:0', device_type='GPU'),\n",
       " PhysicalDevice(name='/physical_device:GPU:1', device_type='GPU')]"
      ]
     },
     "execution_count": 2,
     "metadata": {},
     "output_type": "execute_result"
    }
   ],
   "source": [
    "# 사용 가능 GPU 확인\n",
    "tf.config.list_physical_devices('GPU')"
   ]
  },
  {
   "cell_type": "code",
   "execution_count": 3,
   "metadata": {},
   "outputs": [
    {
     "name": "stdout",
     "output_type": "stream",
     "text": [
      "2.9.1\n"
     ]
    }
   ],
   "source": [
    "# TF 버전\n",
    "print(tf.__version__)"
   ]
  },
  {
   "cell_type": "code",
   "execution_count": 4,
   "metadata": {},
   "outputs": [],
   "source": [
    "# 폴더 안에 있는 모든 csv 파일을 읽어서 하나에 DataFrame 으로 만든다\n",
    "def read_csvs_in_dir(path):\n",
    "    dfs = []\n",
    "    dir_files = os.listdir(path)\n",
    "    file_names = list(filter(lambda x: not(x.startswith('.')), dir_files))\n",
    "    for file_name in sorted(file_names):\n",
    "        df = pd.read_csv(path + file_name, parse_dates=['날짜', '시간'], dayfirst=True, infer_datetime_format=True)\n",
    "        dfs.append(df)\n",
    "    return pd.concat(dfs)"
   ]
  },
  {
   "cell_type": "code",
   "execution_count": 5,
   "metadata": {},
   "outputs": [
    {
     "data": {
      "text/html": [
       "<div>\n",
       "<style scoped>\n",
       "    .dataframe tbody tr th:only-of-type {\n",
       "        vertical-align: middle;\n",
       "    }\n",
       "\n",
       "    .dataframe tbody tr th {\n",
       "        vertical-align: top;\n",
       "    }\n",
       "\n",
       "    .dataframe thead th {\n",
       "        text-align: right;\n",
       "    }\n",
       "</style>\n",
       "<table border=\"1\" class=\"dataframe\">\n",
       "  <thead>\n",
       "    <tr style=\"text-align: right;\">\n",
       "      <th></th>\n",
       "      <th>날짜</th>\n",
       "      <th>시간</th>\n",
       "      <th>대여개수</th>\n",
       "      <th>대기개수</th>\n",
       "      <th>기온</th>\n",
       "      <th>강수량</th>\n",
       "    </tr>\n",
       "  </thead>\n",
       "  <tbody>\n",
       "    <tr>\n",
       "      <th>0</th>\n",
       "      <td>2022-02-01</td>\n",
       "      <td>2022-08-04 00:00:00</td>\n",
       "      <td>20819</td>\n",
       "      <td>3883</td>\n",
       "      <td>-3.9</td>\n",
       "      <td>0.0</td>\n",
       "    </tr>\n",
       "    <tr>\n",
       "      <th>1</th>\n",
       "      <td>2022-02-01</td>\n",
       "      <td>2022-08-04 01:00:00</td>\n",
       "      <td>285</td>\n",
       "      <td>24417</td>\n",
       "      <td>-3.9</td>\n",
       "      <td>22.8</td>\n",
       "    </tr>\n",
       "    <tr>\n",
       "      <th>2</th>\n",
       "      <td>2022-02-01</td>\n",
       "      <td>2022-08-04 02:00:00</td>\n",
       "      <td>194</td>\n",
       "      <td>24508</td>\n",
       "      <td>-14.0</td>\n",
       "      <td>0.0</td>\n",
       "    </tr>\n",
       "    <tr>\n",
       "      <th>3</th>\n",
       "      <td>2022-02-01</td>\n",
       "      <td>2022-08-04 03:00:00</td>\n",
       "      <td>14849</td>\n",
       "      <td>9853</td>\n",
       "      <td>-15.0</td>\n",
       "      <td>0.0</td>\n",
       "    </tr>\n",
       "    <tr>\n",
       "      <th>4</th>\n",
       "      <td>2022-02-01</td>\n",
       "      <td>2022-08-04 04:00:00</td>\n",
       "      <td>45</td>\n",
       "      <td>24657</td>\n",
       "      <td>-5.9</td>\n",
       "      <td>16.6</td>\n",
       "    </tr>\n",
       "  </tbody>\n",
       "</table>\n",
       "</div>"
      ],
      "text/plain": [
       "          날짜                  시간   대여개수   대기개수    기온   강수량\n",
       "0 2022-02-01 2022-08-04 00:00:00  20819   3883  -3.9   0.0\n",
       "1 2022-02-01 2022-08-04 01:00:00    285  24417  -3.9  22.8\n",
       "2 2022-02-01 2022-08-04 02:00:00    194  24508 -14.0   0.0\n",
       "3 2022-02-01 2022-08-04 03:00:00  14849   9853 -15.0   0.0\n",
       "4 2022-02-01 2022-08-04 04:00:00     45  24657  -5.9  16.6"
      ]
     },
     "execution_count": 5,
     "metadata": {},
     "output_type": "execute_result"
    }
   ],
   "source": [
    "# 데이터 read\n",
    "df_train = read_csvs_in_dir('./data/train/')\n",
    "df_false = read_csvs_in_dir('./data/test/')\n",
    "df_false.head()"
   ]
  },
  {
   "cell_type": "code",
   "execution_count": 6,
   "metadata": {},
   "outputs": [
    {
     "data": {
      "text/html": [
       "<div>\n",
       "<style scoped>\n",
       "    .dataframe tbody tr th:only-of-type {\n",
       "        vertical-align: middle;\n",
       "    }\n",
       "\n",
       "    .dataframe tbody tr th {\n",
       "        vertical-align: top;\n",
       "    }\n",
       "\n",
       "    .dataframe thead th {\n",
       "        text-align: right;\n",
       "    }\n",
       "</style>\n",
       "<table border=\"1\" class=\"dataframe\">\n",
       "  <thead>\n",
       "    <tr style=\"text-align: right;\">\n",
       "      <th></th>\n",
       "      <th>대여개수</th>\n",
       "      <th>대기개수</th>\n",
       "      <th>기온</th>\n",
       "      <th>강수량</th>\n",
       "    </tr>\n",
       "  </thead>\n",
       "  <tbody>\n",
       "    <tr>\n",
       "      <th>count</th>\n",
       "      <td>2880.000000</td>\n",
       "      <td>2880.000000</td>\n",
       "      <td>2880.000000</td>\n",
       "      <td>2880.000000</td>\n",
       "    </tr>\n",
       "    <tr>\n",
       "      <th>mean</th>\n",
       "      <td>11641.336111</td>\n",
       "      <td>19682.247222</td>\n",
       "      <td>7.428090</td>\n",
       "      <td>6.761042</td>\n",
       "    </tr>\n",
       "    <tr>\n",
       "      <th>std</th>\n",
       "      <td>9292.621349</td>\n",
       "      <td>9370.342962</td>\n",
       "      <td>10.457679</td>\n",
       "      <td>9.741365</td>\n",
       "    </tr>\n",
       "    <tr>\n",
       "      <th>min</th>\n",
       "      <td>25.000000</td>\n",
       "      <td>16.000000</td>\n",
       "      <td>-15.000000</td>\n",
       "      <td>0.000000</td>\n",
       "    </tr>\n",
       "    <tr>\n",
       "      <th>25%</th>\n",
       "      <td>3685.000000</td>\n",
       "      <td>11847.000000</td>\n",
       "      <td>0.000000</td>\n",
       "      <td>0.000000</td>\n",
       "    </tr>\n",
       "    <tr>\n",
       "      <th>50%</th>\n",
       "      <td>9075.500000</td>\n",
       "      <td>21899.500000</td>\n",
       "      <td>8.000000</td>\n",
       "      <td>0.000000</td>\n",
       "    </tr>\n",
       "    <tr>\n",
       "      <th>75%</th>\n",
       "      <td>18605.250000</td>\n",
       "      <td>27310.750000</td>\n",
       "      <td>15.000000</td>\n",
       "      <td>13.425000</td>\n",
       "    </tr>\n",
       "    <tr>\n",
       "      <th>max</th>\n",
       "      <td>34329.000000</td>\n",
       "      <td>34305.000000</td>\n",
       "      <td>31.000000</td>\n",
       "      <td>34.600000</td>\n",
       "    </tr>\n",
       "  </tbody>\n",
       "</table>\n",
       "</div>"
      ],
      "text/plain": [
       "               대여개수          대기개수           기온          강수량\n",
       "count   2880.000000   2880.000000  2880.000000  2880.000000\n",
       "mean   11641.336111  19682.247222     7.428090     6.761042\n",
       "std     9292.621349   9370.342962    10.457679     9.741365\n",
       "min       25.000000     16.000000   -15.000000     0.000000\n",
       "25%     3685.000000  11847.000000     0.000000     0.000000\n",
       "50%     9075.500000  21899.500000     8.000000     0.000000\n",
       "75%    18605.250000  27310.750000    15.000000    13.425000\n",
       "max    34329.000000  34305.000000    31.000000    34.600000"
      ]
     },
     "execution_count": 6,
     "metadata": {},
     "output_type": "execute_result"
    }
   ],
   "source": [
    "df_false.describe()"
   ]
  },
  {
   "cell_type": "code",
   "execution_count": 7,
   "metadata": {},
   "outputs": [
    {
     "data": {
      "text/html": [
       "<div>\n",
       "<style scoped>\n",
       "    .dataframe tbody tr th:only-of-type {\n",
       "        vertical-align: middle;\n",
       "    }\n",
       "\n",
       "    .dataframe tbody tr th {\n",
       "        vertical-align: top;\n",
       "    }\n",
       "\n",
       "    .dataframe thead th {\n",
       "        text-align: right;\n",
       "    }\n",
       "</style>\n",
       "<table border=\"1\" class=\"dataframe\">\n",
       "  <thead>\n",
       "    <tr style=\"text-align: right;\">\n",
       "      <th></th>\n",
       "      <th>날짜</th>\n",
       "      <th>시간</th>\n",
       "      <th>대여개수</th>\n",
       "      <th>대기개수</th>\n",
       "      <th>기온</th>\n",
       "      <th>강수량</th>\n",
       "    </tr>\n",
       "  </thead>\n",
       "  <tbody>\n",
       "    <tr>\n",
       "      <th>0</th>\n",
       "      <td>32</td>\n",
       "      <td>0</td>\n",
       "      <td>20819</td>\n",
       "      <td>3883</td>\n",
       "      <td>-3.9</td>\n",
       "      <td>0.0</td>\n",
       "    </tr>\n",
       "    <tr>\n",
       "      <th>1</th>\n",
       "      <td>32</td>\n",
       "      <td>1</td>\n",
       "      <td>285</td>\n",
       "      <td>24417</td>\n",
       "      <td>-3.9</td>\n",
       "      <td>22.8</td>\n",
       "    </tr>\n",
       "    <tr>\n",
       "      <th>2</th>\n",
       "      <td>32</td>\n",
       "      <td>2</td>\n",
       "      <td>194</td>\n",
       "      <td>24508</td>\n",
       "      <td>-14.0</td>\n",
       "      <td>0.0</td>\n",
       "    </tr>\n",
       "    <tr>\n",
       "      <th>3</th>\n",
       "      <td>32</td>\n",
       "      <td>3</td>\n",
       "      <td>14849</td>\n",
       "      <td>9853</td>\n",
       "      <td>-15.0</td>\n",
       "      <td>0.0</td>\n",
       "    </tr>\n",
       "    <tr>\n",
       "      <th>4</th>\n",
       "      <td>32</td>\n",
       "      <td>4</td>\n",
       "      <td>45</td>\n",
       "      <td>24657</td>\n",
       "      <td>-5.9</td>\n",
       "      <td>16.6</td>\n",
       "    </tr>\n",
       "  </tbody>\n",
       "</table>\n",
       "</div>"
      ],
      "text/plain": [
       "   날짜  시간   대여개수   대기개수    기온   강수량\n",
       "0  32   0  20819   3883  -3.9   0.0\n",
       "1  32   1    285  24417  -3.9  22.8\n",
       "2  32   2    194  24508 -14.0   0.0\n",
       "3  32   3  14849   9853 -15.0   0.0\n",
       "4  32   4     45  24657  -5.9  16.6"
      ]
     },
     "execution_count": 7,
     "metadata": {},
     "output_type": "execute_result"
    }
   ],
   "source": [
    "# 전처리\n",
    "def preprocess(df):\n",
    "    df['날짜'] = df['날짜'].dt.dayofyear\n",
    "    df['시간'] = df['시간'].dt.hour\n",
    "    return df\n",
    "\n",
    "df_true = preprocess(df_train)\n",
    "df_false = preprocess(df_false)\n",
    "df_false.head()"
   ]
  },
  {
   "cell_type": "code",
   "execution_count": 8,
   "metadata": {},
   "outputs": [],
   "source": [
    "input_true = df_true.values\n",
    "input_false = df_false.values\n",
    "\n",
    "timesteps = 24\n",
    "n_features = input_true.shape[1]"
   ]
  },
  {
   "cell_type": "code",
   "execution_count": 9,
   "metadata": {},
   "outputs": [],
   "source": [
    "# 3차원화\n",
    "def temporalize(X, timesteps):\n",
    "\toutput_X = []\n",
    "\tfor i in range(len(X) - timesteps - 1):\n",
    "\t\tt = []\n",
    "\t\tfor j in range(1, timesteps + 1):\n",
    "\t\t\t# Gather the past records upto the lookback period\n",
    "\t\t\tt.append(X[[(i + j + 1)], :])\n",
    "\t\toutput_X.append(t)\n",
    "\treturn np.squeeze(np.array(output_X))"
   ]
  },
  {
   "cell_type": "code",
   "execution_count": 10,
   "metadata": {},
   "outputs": [
    {
     "name": "stdout",
     "output_type": "stream",
     "text": [
      "(2855, 24, 6)\n"
     ]
    }
   ],
   "source": [
    "x_true = temporalize(input_true, timesteps)\n",
    "x_false = temporalize(input_false, timesteps)\n",
    "print(x_false.shape)"
   ]
  },
  {
   "cell_type": "code",
   "execution_count": 11,
   "metadata": {},
   "outputs": [],
   "source": [
    "def flatten(X):\n",
    "    flattened_X = np.empty((X.shape[0], X.shape[2]))  # sample x features array.\n",
    "    for i in range(X.shape[0]):\n",
    "        flattened_X[i] = X[i, (X.shape[1]-1), :]\n",
    "    return(flattened_X)\n",
    "\n",
    "def scale(X, scaler):\n",
    "    for i in range(X.shape[0]):\n",
    "        X[i, :, :] = scaler.transform(X[i, :, :])\n",
    "        \n",
    "    return X"
   ]
  },
  {
   "cell_type": "code",
   "execution_count": 12,
   "metadata": {},
   "outputs": [],
   "source": [
    "# 스케일링\n",
    "scaler = StandardScaler().fit(flatten(x_true))\n",
    "\n",
    "x_true = scale(x_true, scaler)\n",
    "x_false = scale(x_false, scaler)"
   ]
  },
  {
   "cell_type": "code",
   "execution_count": 13,
   "metadata": {},
   "outputs": [],
   "source": [
    "x_train, x_valid = train_test_split(x_true, test_size=0.2)"
   ]
  },
  {
   "cell_type": "code",
   "execution_count": 14,
   "metadata": {},
   "outputs": [],
   "source": [
    "epochs = 10000\n",
    "batch = 2048\n",
    "lr = 0.0001"
   ]
  },
  {
   "cell_type": "code",
   "execution_count": null,
   "metadata": {},
   "outputs": [],
   "source": [
    "lstm_ae = models.Sequential()\n",
    "# Encoder\n",
    "lstm_ae.add(layers.LSTM(128, input_shape=(timesteps, n_features), return_sequences=True))\n",
    "lstm_ae.add(layers.LSTM(64, return_sequences=True))\n",
    "lstm_ae.add(layers.LSTM(32, return_sequences=True))\n",
    "lstm_ae.add(layers.LSTM(16, return_sequences=True))\n",
    "lstm_ae.add(layers.LSTM(8, return_sequences=False))\n",
    "lstm_ae.add(layers.RepeatVector(timesteps))\n",
    "# Decoder\n",
    "lstm_ae.add(layers.LSTM(8, return_sequences=True))\n",
    "lstm_ae.add(layers.LSTM(16, return_sequences=True))\n",
    "lstm_ae.add(layers.LSTM(32, return_sequences=True))\n",
    "lstm_ae.add(layers.LSTM(64, return_sequences=True))\n",
    "lstm_ae.add(layers.LSTM(128, return_sequences=True))\n",
    "lstm_ae.add(layers.TimeDistributed(layers.Dense(n_features)))\n",
    "\n",
    "lstm_ae.summary()"
   ]
  },
  {
   "cell_type": "code",
   "execution_count": null,
   "metadata": {},
   "outputs": [],
   "source": [
    "# compile\n",
    "lstm_ae.compile(loss='mse', optimizer=optimizers.Adam(lr))\n",
    "\n",
    "# fit\n",
    "history = lstm_ae.fit(x_train, x_train,\n",
    "                     epochs=4000, batch_size=batch,\n",
    "                     validation_data=(x_valid, x_valid))"
   ]
  },
  {
   "cell_type": "code",
   "execution_count": null,
   "metadata": {},
   "outputs": [],
   "source": [
    "plt.plot(history.history['loss'], label='train loss')\n",
    "plt.plot(history.history['val_loss'], label='valid loss')\n",
    "plt.legend()\n",
    "plt.xlabel('Epoch'); plt.ylabel('loss')\n",
    "plt.show()"
   ]
  },
  {
   "cell_type": "code",
   "execution_count": null,
   "metadata": {},
   "outputs": [],
   "source": [
    "predict_false = lstm_ae.predict(x_false)\n",
    "mse = np.mean(np.power(flatten(x_false) - flatten(predict_false), 2), axis=1)\n",
    "\n",
    "plt.plot(np.linspace(0, len(mse)-1, len(mse)), mse)\n",
    "plt.ylim([0, 2])\n",
    "plt.show()"
   ]
  },
  {
   "cell_type": "code",
   "execution_count": null,
   "metadata": {},
   "outputs": [],
   "source": [
    "predict_false = lstm_ae.predict(x_valid)\n",
    "mse = np.mean(np.power(flatten(x_valid) - flatten(predict_false), 2), axis=1)\n",
    "\n",
    "plt.plot(np.linspace(0, len(mse)-1, len(mse)), mse)\n",
    "plt.ylim([0, 2])\n",
    "plt.show()"
   ]
  },
  {
   "cell_type": "code",
   "execution_count": null,
   "metadata": {},
   "outputs": [],
   "source": []
  }
 ],
 "metadata": {
  "kernelspec": {
   "display_name": "Python 3 (ipykernel)",
   "language": "python",
   "name": "python3"
  },
  "language_info": {
   "codemirror_mode": {
    "name": "ipython",
    "version": 3
   },
   "file_extension": ".py",
   "mimetype": "text/x-python",
   "name": "python",
   "nbconvert_exporter": "python",
   "pygments_lexer": "ipython3",
   "version": "3.8.10"
  },
  "orig_nbformat": 4,
  "vscode": {
   "interpreter": {
    "hash": "a40abf0e8e626068dc1e9bd544b994fd0b32c1b4bc99836ffc89da51cc3d61ca"
   }
  }
 },
 "nbformat": 4,
 "nbformat_minor": 2
}
