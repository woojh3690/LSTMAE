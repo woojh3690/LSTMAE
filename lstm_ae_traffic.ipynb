{
 "cells": [
  {
   "cell_type": "code",
   "execution_count": 1,
   "metadata": {},
   "outputs": [],
   "source": [
    "import os\n",
    "import pickle\n",
    "import joblib\n",
    "\n",
    "import pandas as pd \n",
    "import numpy as np\n",
    "import matplotlib.pyplot as plt\n",
    "\n",
    "import tensorflow as tf\n",
    "from tensorflow.keras import models, layers, optimizers\n",
    "\n",
    "from sklearn.preprocessing import StandardScaler\n",
    "from sklearn.model_selection import train_test_split"
   ]
  },
  {
   "cell_type": "code",
   "execution_count": null,
   "metadata": {},
   "outputs": [],
   "source": [
    "gpu_number = 0 #### GPU number \n",
    "gpus = tf.config.list_physical_devices('GPU')\n",
    "if gpus:\n",
    "    tf.config.experimental.set_visible_devices(gpus[gpu_number], 'GPU') \n",
    "    logical_gpus = tf.config.experimental.list_logical_devices('GPU')\n",
    "    print(len(gpus), \"Physical GPUs,\", len(logical_gpus), \"Logical GPU\")"
   ]
  },
  {
   "cell_type": "code",
   "execution_count": 106,
   "metadata": {},
   "outputs": [
    {
     "data": {
      "text/html": [
       "<div>\n",
       "<style scoped>\n",
       "    .dataframe tbody tr th:only-of-type {\n",
       "        vertical-align: middle;\n",
       "    }\n",
       "\n",
       "    .dataframe tbody tr th {\n",
       "        vertical-align: top;\n",
       "    }\n",
       "\n",
       "    .dataframe thead th {\n",
       "        text-align: right;\n",
       "    }\n",
       "</style>\n",
       "<table border=\"1\" class=\"dataframe\">\n",
       "  <thead>\n",
       "    <tr style=\"text-align: right;\">\n",
       "      <th></th>\n",
       "      <th>날짜</th>\n",
       "      <th>시간</th>\n",
       "      <th>총교통량</th>\n",
       "      <th>기온</th>\n",
       "      <th>강수량</th>\n",
       "    </tr>\n",
       "  </thead>\n",
       "  <tbody>\n",
       "    <tr>\n",
       "      <th>0</th>\n",
       "      <td>182</td>\n",
       "      <td>0</td>\n",
       "      <td>9030</td>\n",
       "      <td>24.0</td>\n",
       "      <td>0.0</td>\n",
       "    </tr>\n",
       "    <tr>\n",
       "      <th>1</th>\n",
       "      <td>182</td>\n",
       "      <td>1</td>\n",
       "      <td>6469</td>\n",
       "      <td>24.0</td>\n",
       "      <td>0.0</td>\n",
       "    </tr>\n",
       "    <tr>\n",
       "      <th>2</th>\n",
       "      <td>182</td>\n",
       "      <td>2</td>\n",
       "      <td>5238</td>\n",
       "      <td>24.0</td>\n",
       "      <td>0.0</td>\n",
       "    </tr>\n",
       "    <tr>\n",
       "      <th>3</th>\n",
       "      <td>182</td>\n",
       "      <td>3</td>\n",
       "      <td>5834</td>\n",
       "      <td>23.0</td>\n",
       "      <td>0.0</td>\n",
       "    </tr>\n",
       "    <tr>\n",
       "      <th>4</th>\n",
       "      <td>182</td>\n",
       "      <td>4</td>\n",
       "      <td>11062</td>\n",
       "      <td>23.0</td>\n",
       "      <td>0.0</td>\n",
       "    </tr>\n",
       "    <tr>\n",
       "      <th>...</th>\n",
       "      <td>...</td>\n",
       "      <td>...</td>\n",
       "      <td>...</td>\n",
       "      <td>...</td>\n",
       "      <td>...</td>\n",
       "    </tr>\n",
       "    <tr>\n",
       "      <th>8755</th>\n",
       "      <td>181</td>\n",
       "      <td>19</td>\n",
       "      <td>35395</td>\n",
       "      <td>20.0</td>\n",
       "      <td>3.3</td>\n",
       "    </tr>\n",
       "    <tr>\n",
       "      <th>8756</th>\n",
       "      <td>181</td>\n",
       "      <td>20</td>\n",
       "      <td>27448</td>\n",
       "      <td>21.0</td>\n",
       "      <td>2.5</td>\n",
       "    </tr>\n",
       "    <tr>\n",
       "      <th>8757</th>\n",
       "      <td>181</td>\n",
       "      <td>21</td>\n",
       "      <td>24237</td>\n",
       "      <td>21.0</td>\n",
       "      <td>2.0</td>\n",
       "    </tr>\n",
       "    <tr>\n",
       "      <th>8758</th>\n",
       "      <td>181</td>\n",
       "      <td>22</td>\n",
       "      <td>18403</td>\n",
       "      <td>21.0</td>\n",
       "      <td>1.0</td>\n",
       "    </tr>\n",
       "    <tr>\n",
       "      <th>8759</th>\n",
       "      <td>181</td>\n",
       "      <td>23</td>\n",
       "      <td>13044</td>\n",
       "      <td>22.0</td>\n",
       "      <td>0.0</td>\n",
       "    </tr>\n",
       "  </tbody>\n",
       "</table>\n",
       "<p>8760 rows × 5 columns</p>\n",
       "</div>"
      ],
      "text/plain": [
       "       날짜  시간   총교통량    기온  강수량\n",
       "0     182   0   9030  24.0  0.0\n",
       "1     182   1   6469  24.0  0.0\n",
       "2     182   2   5238  24.0  0.0\n",
       "3     182   3   5834  23.0  0.0\n",
       "4     182   4  11062  23.0  0.0\n",
       "...   ...  ..    ...   ...  ...\n",
       "8755  181  19  35395  20.0  3.3\n",
       "8756  181  20  27448  21.0  2.5\n",
       "8757  181  21  24237  21.0  2.0\n",
       "8758  181  22  18403  21.0  1.0\n",
       "8759  181  23  13044  22.0  0.0\n",
       "\n",
       "[8760 rows x 5 columns]"
      ]
     },
     "execution_count": 106,
     "metadata": {},
     "output_type": "execute_result"
    }
   ],
   "source": [
    "# 데이터 read\n",
    "df_train = pd.read_csv('./data/traffic_process/train.csv', parse_dates=['날짜', '시간'], dayfirst=True, infer_datetime_format=True)\n",
    "df_false = pd.read_csv('./data/traffic_process/false.csv', parse_dates=['날짜', '시간'], dayfirst=True, infer_datetime_format=True)\n",
    "df_train"
   ]
  },
  {
   "cell_type": "code",
   "execution_count": 5,
   "metadata": {},
   "outputs": [
    {
     "data": {
      "text/html": [
       "<div>\n",
       "<style scoped>\n",
       "    .dataframe tbody tr th:only-of-type {\n",
       "        vertical-align: middle;\n",
       "    }\n",
       "\n",
       "    .dataframe tbody tr th {\n",
       "        vertical-align: top;\n",
       "    }\n",
       "\n",
       "    .dataframe thead th {\n",
       "        text-align: right;\n",
       "    }\n",
       "</style>\n",
       "<table border=\"1\" class=\"dataframe\">\n",
       "  <thead>\n",
       "    <tr style=\"text-align: right;\">\n",
       "      <th></th>\n",
       "      <th>총교통량</th>\n",
       "      <th>기온</th>\n",
       "      <th>강수량</th>\n",
       "    </tr>\n",
       "  </thead>\n",
       "  <tbody>\n",
       "    <tr>\n",
       "      <th>count</th>\n",
       "      <td>8760.000000</td>\n",
       "      <td>8760.000000</td>\n",
       "      <td>8760.000000</td>\n",
       "    </tr>\n",
       "    <tr>\n",
       "      <th>mean</th>\n",
       "      <td>32627.669064</td>\n",
       "      <td>12.896792</td>\n",
       "      <td>0.190114</td>\n",
       "    </tr>\n",
       "    <tr>\n",
       "      <th>std</th>\n",
       "      <td>16125.413812</td>\n",
       "      <td>10.891627</td>\n",
       "      <td>1.380343</td>\n",
       "    </tr>\n",
       "    <tr>\n",
       "      <th>min</th>\n",
       "      <td>2377.000000</td>\n",
       "      <td>-13.900000</td>\n",
       "      <td>0.000000</td>\n",
       "    </tr>\n",
       "    <tr>\n",
       "      <th>25%</th>\n",
       "      <td>16409.500000</td>\n",
       "      <td>4.000000</td>\n",
       "      <td>0.000000</td>\n",
       "    </tr>\n",
       "    <tr>\n",
       "      <th>50%</th>\n",
       "      <td>40556.500000</td>\n",
       "      <td>14.000000</td>\n",
       "      <td>0.000000</td>\n",
       "    </tr>\n",
       "    <tr>\n",
       "      <th>75%</th>\n",
       "      <td>46282.000000</td>\n",
       "      <td>22.000000</td>\n",
       "      <td>0.000000</td>\n",
       "    </tr>\n",
       "    <tr>\n",
       "      <th>max</th>\n",
       "      <td>59837.000000</td>\n",
       "      <td>35.000000</td>\n",
       "      <td>43.900002</td>\n",
       "    </tr>\n",
       "  </tbody>\n",
       "</table>\n",
       "</div>"
      ],
      "text/plain": [
       "               총교통량           기온          강수량\n",
       "count   8760.000000  8760.000000  8760.000000\n",
       "mean   32627.669064    12.896792     0.190114\n",
       "std    16125.413812    10.891627     1.380343\n",
       "min     2377.000000   -13.900000     0.000000\n",
       "25%    16409.500000     4.000000     0.000000\n",
       "50%    40556.500000    14.000000     0.000000\n",
       "75%    46282.000000    22.000000     0.000000\n",
       "max    59837.000000    35.000000    43.900002"
      ]
     },
     "execution_count": 5,
     "metadata": {},
     "output_type": "execute_result"
    }
   ],
   "source": [
    "df_train.describe()"
   ]
  },
  {
   "cell_type": "code",
   "execution_count": 107,
   "metadata": {},
   "outputs": [],
   "source": [
    "input_true = df_train.values\n",
    "input_false = df_false.values\n",
    "\n",
    "timesteps = 24\n",
    "n_features = input_true.shape[1]"
   ]
  },
  {
   "cell_type": "code",
   "execution_count": 76,
   "metadata": {},
   "outputs": [],
   "source": [
    "# 3차원화\n",
    "def temporalize(X, timesteps):\n",
    "\toutput_X = []\n",
    "\tfor i in range(len(X) - timesteps - 1):\n",
    "\t\tt = []\n",
    "\t\tfor j in range(1, timesteps + 1):\n",
    "\t\t\t# Gather the past records upto the lookback period\n",
    "\t\t\tt.append(X[[(i + j + 1)], :])\n",
    "\t\toutput_X.append(t)\n",
    "\treturn np.squeeze(np.array(output_X))"
   ]
  },
  {
   "cell_type": "code",
   "execution_count": 108,
   "metadata": {},
   "outputs": [
    {
     "name": "stdout",
     "output_type": "stream",
     "text": [
      "(8735, 24, 5)\n",
      "(8735, 24, 5)\n"
     ]
    }
   ],
   "source": [
    "x_true = temporalize(input_true, timesteps)\n",
    "x_false = temporalize(input_false, timesteps)\n",
    "print(x_true.shape)\n",
    "print(x_false.shape)"
   ]
  },
  {
   "cell_type": "code",
   "execution_count": 9,
   "metadata": {},
   "outputs": [],
   "source": [
    "def flatten(X):\n",
    "    flattened_X = np.empty((X.shape[0], X.shape[2]))  # sample x features array.\n",
    "    for i in range(X.shape[0]):\n",
    "        flattened_X[i] = X[i, (X.shape[1]-1), :]\n",
    "    return(flattened_X)\n",
    "\n",
    "def scale(X, scaler):\n",
    "    for i in range(X.shape[0]):\n",
    "        X[i, :, :] = scaler.transform(X[i, :, :])\n",
    "    return X\n",
    "\n",
    "def deScale(X, scaler):\n",
    "    for i in range(X.shape[0]):\n",
    "        X[i, :, :] = scaler.inverse_transform(X[i, :, :])\n",
    "    return X"
   ]
  },
  {
   "cell_type": "code",
   "execution_count": 109,
   "metadata": {},
   "outputs": [
    {
     "name": "stdout",
     "output_type": "stream",
     "text": [
      "(8735, 24, 5)\n",
      "(8735, 24, 5)\n"
     ]
    }
   ],
   "source": [
    "# 스케일링\n",
    "scaler = StandardScaler().fit(flatten(x_true))\n",
    "\n",
    "x_scale_true = scale(x_true, scaler).astype(float)\n",
    "x_scale_false = scale(x_false, scaler).astype(float)\n",
    "\n",
    "print(x_scale_true.shape)\n",
    "print(x_scale_false.shape)"
   ]
  },
  {
   "cell_type": "code",
   "execution_count": null,
   "metadata": {},
   "outputs": [],
   "source": [
    "# 스케일 범위 저장\n",
    "joblib.dump(scaler, \"./saved_model/traffic/scaler.pkl\")"
   ]
  },
  {
   "cell_type": "code",
   "execution_count": 80,
   "metadata": {},
   "outputs": [
    {
     "name": "stdout",
     "output_type": "stream",
     "text": [
      "(6988, 24, 5)\n"
     ]
    }
   ],
   "source": [
    "x_train, x_valid = train_test_split(x_scale_true, test_size=0.2)\n",
    "print(x_train.shape)"
   ]
  },
  {
   "cell_type": "code",
   "execution_count": null,
   "metadata": {},
   "outputs": [],
   "source": [
    "lstm_ae = models.Sequential()\n",
    "# Encoder\n",
    "lstm_ae.add(layers.LSTM(128, input_shape=(timesteps, n_features), return_sequences=True))\n",
    "lstm_ae.add(layers.LSTM(64, return_sequences=True))\n",
    "lstm_ae.add(layers.LSTM(32, return_sequences=True))\n",
    "lstm_ae.add(layers.LSTM(16, return_sequences=False))\n",
    "lstm_ae.add(layers.RepeatVector(timesteps))\n",
    "# Decoder\n",
    "lstm_ae.add(layers.LSTM(16, return_sequences=True))\n",
    "lstm_ae.add(layers.LSTM(32, return_sequences=True))\n",
    "lstm_ae.add(layers.LSTM(64, return_sequences=True))\n",
    "lstm_ae.add(layers.LSTM(128, return_sequences=True))\n",
    "lstm_ae.add(layers.TimeDistributed(layers.Dense(n_features)))\n",
    "\n",
    "lstm_ae.summary()"
   ]
  },
  {
   "cell_type": "code",
   "execution_count": null,
   "metadata": {},
   "outputs": [],
   "source": [
    "# 학습된 모델 로딩\n",
    "lstm_ae = tf.keras.models.load_model('./saved_model/traffic/v1/')\n",
    "lstm_ae.summary()"
   ]
  },
  {
   "cell_type": "code",
   "execution_count": 96,
   "metadata": {},
   "outputs": [],
   "source": [
    "# 하이퍼 파라미터\n",
    "epochs = 20000\n",
    "batch = 8192\n",
    "lr = 0.001"
   ]
  },
  {
   "cell_type": "code",
   "execution_count": 97,
   "metadata": {},
   "outputs": [
    {
     "name": "stdout",
     "output_type": "stream",
     "text": [
      "Epoch 1/20000\n",
      "1/1 [==============================] - ETA: 0s - loss: 0.0717"
     ]
    }
   ],
   "source": [
    "# compile\n",
    "lstm_ae.compile(loss='mse', optimizer=optimizers.Adam(lr))\n",
    "\n",
    "# fit\n",
    "history = lstm_ae.fit(x_train, x_train,\n",
    "                     epochs=epochs, batch_size=batch,\n",
    "                     validation_data=(x_valid, x_valid))"
   ]
  },
  {
   "cell_type": "code",
   "execution_count": 28,
   "metadata": {},
   "outputs": [],
   "source": [
    "# 학습 loss 기록 저장\n",
    "with open('./saved_model/traffic/v1/trainHistory', 'wb') as file_pi:\n",
    "    pickle.dump(history.history, file_pi)"
   ]
  },
  {
   "cell_type": "code",
   "execution_count": 136,
   "metadata": {},
   "outputs": [],
   "source": [
    "# 학습 loss 기록 저장\n",
    "with open('./saved_model/traffic/v1/trainHistory', \"rb\") as file_pi:\n",
    "    history = pickle.load(file_pi)"
   ]
  },
  {
   "cell_type": "code",
   "execution_count": 139,
   "metadata": {},
   "outputs": [
    {
     "data": {
      "image/png": "[encoded data removed]",
      "text/plain": [
       "<Figure size 432x288 with 1 Axes>"
      ]
     },
     "metadata": {
      "needs_background": "light"
     },
     "output_type": "display_data"
    }
   ],
   "source": [
    "plt.plot(history['loss'], label='train loss')\n",
    "plt.plot(history['val_loss'], label='valid loss')\n",
    "plt.legend()\n",
    "plt.xlabel('Epoch'); plt.ylabel('loss')\n",
    "plt.show()"
   ]
  },
  {
   "cell_type": "code",
   "execution_count": 86,
   "metadata": {},
   "outputs": [
    {
     "name": "stdout",
     "output_type": "stream",
     "text": [
      "273/273 [==============================] - 1s 4ms/step\n",
      "(8735, 24, 5)\n"
     ]
    }
   ],
   "source": [
    "predict_false = lstm_ae.predict(x_scale_false)\n",
    "print(predict_false.shape)"
   ]
  },
  {
   "cell_type": "code",
   "execution_count": 128,
   "metadata": {},
   "outputs": [
    {
     "name": "stdout",
     "output_type": "stream",
     "text": [
      "273/273 [==============================] - 3s 4ms/step\n"
     ]
    },
    {
     "data": {
      "image/png": "[encoded data removed]",
      "text/plain": [
       "<Figure size 432x288 with 1 Axes>"
      ]
     },
     "metadata": {
      "needs_background": "light"
     },
     "output_type": "display_data"
    }
   ],
   "source": [
    "predict_false = lstm_ae.predict(x_scale_false)\n",
    "mse_false = np.mean(np.power(flatten(x_scale_false) - flatten(predict_false), 2), axis=1)\n",
    "\n",
    "plt.plot(np.linspace(0, len(mse_false)-1, len(mse_false)), mse_false)\n",
    "plt.ylim([0, 0.1])\n",
    "plt.title('False Data')\n",
    "plt.ylabel('mse')\n",
    "plt.xlabel('num of sample data')\n",
    "plt.show()"
   ]
  },
  {
   "cell_type": "code",
   "execution_count": 129,
   "metadata": {},
   "outputs": [
    {
     "name": "stdout",
     "output_type": "stream",
     "text": [
      "55/55 [==============================] - 0s 4ms/step\n"
     ]
    },
    {
     "data": {
      "image/png": "[encoded data removed]",
      "text/plain": [
       "<Figure size 432x288 with 1 Axes>"
      ]
     },
     "metadata": {
      "needs_background": "light"
     },
     "output_type": "display_data"
    }
   ],
   "source": [
    "predict_valid = lstm_ae.predict(x_valid)\n",
    "mse_valid = np.mean(np.power(flatten(x_valid) - flatten(predict_valid), 2), axis=1)\n",
    "\n",
    "plt.plot(np.linspace(0, len(mse_valid)-1, len(mse_valid)), mse_valid)\n",
    "plt.ylim([0, 0.1])\n",
    "plt.title('True Data')\n",
    "plt.ylabel('mse')\n",
    "plt.xlabel('num of sample data')\n",
    "plt.show()"
   ]
  },
  {
   "cell_type": "code",
   "execution_count": 133,
   "metadata": {},
   "outputs": [
    {
     "name": "stdout",
     "output_type": "stream",
     "text": [
      "(8735, 24, 5)\n"
     ]
    }
   ],
   "source": [
    "# 특정 mse 기준으로 어떻게 데이터가 나뉘는지 확인\n",
    "threshold_mse = 0.01\n",
    "\n",
    "print(predict_false.shape)"
   ]
  },
  {
   "cell_type": "code",
   "execution_count": 134,
   "metadata": {},
   "outputs": [
    {
     "name": "stdout",
     "output_type": "stream",
     "text": [
      "83\n",
      "8652\n",
      "1731\n",
      "16\n"
     ]
    }
   ],
   "source": [
    "false_but_true = x_scale_false[mse_false <= threshold_mse].shape[0]\n",
    "false_but_false = x_scale_false[mse_false > threshold_mse].shape[0]\n",
    "true_but_true = x_valid[mse_valid <= threshold_mse].shape[0]\n",
    "true_but_false = x_valid[mse_valid > threshold_mse].shape[0]\n",
    "print(false_but_true)\n",
    "print(false_but_false)\n",
    "print(true_but_true)\n",
    "print(true_but_false)"
   ]
  },
  {
   "cell_type": "code",
   "execution_count": 135,
   "metadata": {},
   "outputs": [
    {
     "name": "stdout",
     "output_type": "stream",
     "text": [
      "정밀도 :  0.954244762954796\n",
      "재현율 :  0.9908414424728106\n"
     ]
    }
   ],
   "source": [
    "# 정밀도&재현율 계산\n",
    "print(\"정밀도 : \", true_but_true/(true_but_true + false_but_true))\n",
    "print(\"재현율 : \", true_but_true/(true_but_true + true_but_false))"
   ]
  },
  {
   "cell_type": "code",
   "execution_count": 29,
   "metadata": {},
   "outputs": [
    {
     "name": "stderr",
     "output_type": "stream",
     "text": [
      "WARNING:absl:Found untraced functions such as lstm_cell_layer_call_fn, lstm_cell_layer_call_and_return_conditional_losses, lstm_cell_1_layer_call_fn, lstm_cell_1_layer_call_and_return_conditional_losses, lstm_cell_2_layer_call_fn while saving (showing 5 of 16). These functions will not be directly callable after loading.\n"
     ]
    },
    {
     "name": "stdout",
     "output_type": "stream",
     "text": [
      "INFO:tensorflow:Assets written to: saved_model/v1/assets\n"
     ]
    },
    {
     "name": "stderr",
     "output_type": "stream",
     "text": [
      "INFO:tensorflow:Assets written to: saved_model/v1/assets\n"
     ]
    }
   ],
   "source": [
    "# 모델 저장\n",
    "lstm_ae.save('saved_model/traffic/v1')"
   ]
  }
 ],
 "metadata": {
  "kernelspec": {
   "display_name": "Python 3 (ipykernel)",
   "language": "python",
   "name": "python3"
  },
  "language_info": {
   "codemirror_mode": {
    "name": "ipython",
    "version": 3
   },
   "file_extension": ".py",
   "mimetype": "text/x-python",
   "name": "python",
   "nbconvert_exporter": "python",
   "pygments_lexer": "ipython3",
   "version": "3.8.10"
  },
  "vscode": {
   "interpreter": {
    "hash": "a40abf0e8e626068dc1e9bd544b994fd0b32c1b4bc99836ffc89da51cc3d61ca"
   }
  }
 },
 "nbformat": 4,
 "nbformat_minor": 4
}
