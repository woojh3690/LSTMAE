{
 "cells": [
  {
   "cell_type": "code",
   "execution_count": 1,
   "metadata": {},
   "outputs": [],
   "source": [
    "import os\n",
    "\n",
    "import pandas as pd \n",
    "import numpy as np\n",
    "import matplotlib.pyplot as plt\n",
    "\n",
    "import tensorflow as tf\n",
    "from tensorflow.keras import models, layers, optimizers\n",
    "\n",
    "from sklearn.preprocessing import StandardScaler\n",
    "from sklearn.model_selection import train_test_split\n",
    "import joblib"
   ]
  },
  {
   "cell_type": "code",
   "execution_count": null,
   "metadata": {},
   "outputs": [],
   "source": [
    "gpu_number = 0 #### GPU number \n",
    "gpus = tf.config.list_physical_devices('GPU')\n",
    "if gpus:\n",
    "    tf.config.experimental.set_visible_devices(gpus[gpu_number], 'GPU') \n",
    "    logical_gpus = tf.config.experimental.list_logical_devices('GPU')\n",
    "    print(len(gpus), \"Physical GPUs,\", len(logical_gpus), \"Logical GPU\")"
   ]
  },
  {
   "cell_type": "code",
   "execution_count": 21,
   "metadata": {},
   "outputs": [],
   "source": [
    "# 폴더 안에 있는 모든 csv 파일을 읽어서 하나에 DataFrame 으로 만든다\n",
    "def read_csvs_in_dir(path):\n",
    "    dfs = []\n",
    "    dir_files = os.listdir(path)\n",
    "    file_names = list(filter(lambda x: not(x.startswith('.')), dir_files))\n",
    "    for file_name in sorted(file_names):\n",
    "        df = pd.read_csv(path + file_name, parse_dates=['날짜', '시간'], dayfirst=True, infer_datetime_format=True)\n",
    "        dfs.append(df)\n",
    "    return pd.concat(dfs)"
   ]
  },
  {
   "cell_type": "code",
   "execution_count": 84,
   "metadata": {},
   "outputs": [
    {
     "data": {
      "text/html": [
       "<div>\n",
       "<style scoped>\n",
       "    .dataframe tbody tr th:only-of-type {\n",
       "        vertical-align: middle;\n",
       "    }\n",
       "\n",
       "    .dataframe tbody tr th {\n",
       "        vertical-align: top;\n",
       "    }\n",
       "\n",
       "    .dataframe thead th {\n",
       "        text-align: right;\n",
       "    }\n",
       "</style>\n",
       "<table border=\"1\" class=\"dataframe\">\n",
       "  <thead>\n",
       "    <tr style=\"text-align: right;\">\n",
       "      <th></th>\n",
       "      <th>대여개수</th>\n",
       "      <th>대기개수</th>\n",
       "      <th>기온</th>\n",
       "      <th>강수량</th>\n",
       "    </tr>\n",
       "  </thead>\n",
       "  <tbody>\n",
       "    <tr>\n",
       "      <th>count</th>\n",
       "      <td>8760.000000</td>\n",
       "      <td>8760.000000</td>\n",
       "      <td>8760.000000</td>\n",
       "      <td>8760.000000</td>\n",
       "    </tr>\n",
       "    <tr>\n",
       "      <th>mean</th>\n",
       "      <td>3976.064612</td>\n",
       "      <td>24214.636758</td>\n",
       "      <td>12.896792</td>\n",
       "      <td>0.190114</td>\n",
       "    </tr>\n",
       "    <tr>\n",
       "      <th>std</th>\n",
       "      <td>3279.088212</td>\n",
       "      <td>4201.261344</td>\n",
       "      <td>10.891627</td>\n",
       "      <td>1.380343</td>\n",
       "    </tr>\n",
       "    <tr>\n",
       "      <th>min</th>\n",
       "      <td>23.000000</td>\n",
       "      <td>11130.000000</td>\n",
       "      <td>-13.900000</td>\n",
       "      <td>0.000000</td>\n",
       "    </tr>\n",
       "    <tr>\n",
       "      <th>25%</th>\n",
       "      <td>1235.000000</td>\n",
       "      <td>21491.750000</td>\n",
       "      <td>4.000000</td>\n",
       "      <td>0.000000</td>\n",
       "    </tr>\n",
       "    <tr>\n",
       "      <th>50%</th>\n",
       "      <td>3220.000000</td>\n",
       "      <td>23970.000000</td>\n",
       "      <td>14.000000</td>\n",
       "      <td>0.000000</td>\n",
       "    </tr>\n",
       "    <tr>\n",
       "      <th>75%</th>\n",
       "      <td>5771.500000</td>\n",
       "      <td>26725.000000</td>\n",
       "      <td>22.000000</td>\n",
       "      <td>0.000000</td>\n",
       "    </tr>\n",
       "    <tr>\n",
       "      <th>max</th>\n",
       "      <td>16653.000000</td>\n",
       "      <td>34510.000000</td>\n",
       "      <td>35.000000</td>\n",
       "      <td>43.900002</td>\n",
       "    </tr>\n",
       "  </tbody>\n",
       "</table>\n",
       "</div>"
      ],
      "text/plain": [
       "               대여개수          대기개수           기온          강수량\n",
       "count   8760.000000   8760.000000  8760.000000  8760.000000\n",
       "mean    3976.064612  24214.636758    12.896792     0.190114\n",
       "std     3279.088212   4201.261344    10.891627     1.380343\n",
       "min       23.000000  11130.000000   -13.900000     0.000000\n",
       "25%     1235.000000  21491.750000     4.000000     0.000000\n",
       "50%     3220.000000  23970.000000    14.000000     0.000000\n",
       "75%     5771.500000  26725.000000    22.000000     0.000000\n",
       "max    16653.000000  34510.000000    35.000000    43.900002"
      ]
     },
     "execution_count": 84,
     "metadata": {},
     "output_type": "execute_result"
    }
   ],
   "source": [
    "# 데이터 read\n",
    "df_train = read_csvs_in_dir('./data/train/')\n",
    "df_false = read_csvs_in_dir('./data/test/')\n",
    "df_train.describe()"
   ]
  },
  {
   "cell_type": "code",
   "execution_count": 7,
   "metadata": {},
   "outputs": [],
   "source": [
    "def get_fix(df_row):\n",
    "    if (df_row['기온'] < 0 or df_row['기온'] > 40 or df_row['강수량'] > 5) and df_row['대기개수'] > 2000:\n",
    "        return 1\n",
    "    else:\n",
    "        return 0"
   ]
  },
  {
   "cell_type": "code",
   "execution_count": 8,
   "metadata": {},
   "outputs": [],
   "source": [
    "def add_fix_col(data):\n",
    "    new_col = data.apply(get_fix, axis=1)\n",
    "    data[\"fix\"] = new_col"
   ]
  },
  {
   "cell_type": "code",
   "execution_count": 85,
   "metadata": {},
   "outputs": [
    {
     "data": {
      "text/html": [
       "<div>\n",
       "<style scoped>\n",
       "    .dataframe tbody tr th:only-of-type {\n",
       "        vertical-align: middle;\n",
       "    }\n",
       "\n",
       "    .dataframe tbody tr th {\n",
       "        vertical-align: top;\n",
       "    }\n",
       "\n",
       "    .dataframe thead th {\n",
       "        text-align: right;\n",
       "    }\n",
       "</style>\n",
       "<table border=\"1\" class=\"dataframe\">\n",
       "  <thead>\n",
       "    <tr style=\"text-align: right;\">\n",
       "      <th></th>\n",
       "      <th>대여개수</th>\n",
       "      <th>대기개수</th>\n",
       "      <th>기온</th>\n",
       "      <th>강수량</th>\n",
       "      <th>fix</th>\n",
       "    </tr>\n",
       "  </thead>\n",
       "  <tbody>\n",
       "    <tr>\n",
       "      <th>count</th>\n",
       "      <td>8760.000000</td>\n",
       "      <td>8760.000000</td>\n",
       "      <td>8760.000000</td>\n",
       "      <td>8760.000000</td>\n",
       "      <td>8760.000000</td>\n",
       "    </tr>\n",
       "    <tr>\n",
       "      <th>mean</th>\n",
       "      <td>3976.064612</td>\n",
       "      <td>24214.636758</td>\n",
       "      <td>12.896792</td>\n",
       "      <td>0.190114</td>\n",
       "      <td>0.155137</td>\n",
       "    </tr>\n",
       "    <tr>\n",
       "      <th>std</th>\n",
       "      <td>3279.088212</td>\n",
       "      <td>4201.261344</td>\n",
       "      <td>10.891627</td>\n",
       "      <td>1.380343</td>\n",
       "      <td>0.362056</td>\n",
       "    </tr>\n",
       "    <tr>\n",
       "      <th>min</th>\n",
       "      <td>23.000000</td>\n",
       "      <td>11130.000000</td>\n",
       "      <td>-13.900000</td>\n",
       "      <td>0.000000</td>\n",
       "      <td>0.000000</td>\n",
       "    </tr>\n",
       "    <tr>\n",
       "      <th>25%</th>\n",
       "      <td>1235.000000</td>\n",
       "      <td>21491.750000</td>\n",
       "      <td>4.000000</td>\n",
       "      <td>0.000000</td>\n",
       "      <td>0.000000</td>\n",
       "    </tr>\n",
       "    <tr>\n",
       "      <th>50%</th>\n",
       "      <td>3220.000000</td>\n",
       "      <td>23970.000000</td>\n",
       "      <td>14.000000</td>\n",
       "      <td>0.000000</td>\n",
       "      <td>0.000000</td>\n",
       "    </tr>\n",
       "    <tr>\n",
       "      <th>75%</th>\n",
       "      <td>5771.500000</td>\n",
       "      <td>26725.000000</td>\n",
       "      <td>22.000000</td>\n",
       "      <td>0.000000</td>\n",
       "      <td>0.000000</td>\n",
       "    </tr>\n",
       "    <tr>\n",
       "      <th>max</th>\n",
       "      <td>16653.000000</td>\n",
       "      <td>34510.000000</td>\n",
       "      <td>35.000000</td>\n",
       "      <td>43.900002</td>\n",
       "      <td>1.000000</td>\n",
       "    </tr>\n",
       "  </tbody>\n",
       "</table>\n",
       "</div>"
      ],
      "text/plain": [
       "               대여개수          대기개수           기온          강수량          fix\n",
       "count   8760.000000   8760.000000  8760.000000  8760.000000  8760.000000\n",
       "mean    3976.064612  24214.636758    12.896792     0.190114     0.155137\n",
       "std     3279.088212   4201.261344    10.891627     1.380343     0.362056\n",
       "min       23.000000  11130.000000   -13.900000     0.000000     0.000000\n",
       "25%     1235.000000  21491.750000     4.000000     0.000000     0.000000\n",
       "50%     3220.000000  23970.000000    14.000000     0.000000     0.000000\n",
       "75%     5771.500000  26725.000000    22.000000     0.000000     0.000000\n",
       "max    16653.000000  34510.000000    35.000000    43.900002     1.000000"
      ]
     },
     "execution_count": 85,
     "metadata": {},
     "output_type": "execute_result"
    }
   ],
   "source": [
    "add_fix_col(df_train)\n",
    "add_fix_col(df_false)\n",
    "df_train.describe()\n",
    "#df_false.head(24)"
   ]
  },
  {
   "cell_type": "code",
   "execution_count": 24,
   "metadata": {},
   "outputs": [
    {
     "data": {
      "text/html": [
       "<div>\n",
       "<style scoped>\n",
       "    .dataframe tbody tr th:only-of-type {\n",
       "        vertical-align: middle;\n",
       "    }\n",
       "\n",
       "    .dataframe tbody tr th {\n",
       "        vertical-align: top;\n",
       "    }\n",
       "\n",
       "    .dataframe thead th {\n",
       "        text-align: right;\n",
       "    }\n",
       "</style>\n",
       "<table border=\"1\" class=\"dataframe\">\n",
       "  <thead>\n",
       "    <tr style=\"text-align: right;\">\n",
       "      <th></th>\n",
       "      <th>날짜</th>\n",
       "      <th>시간</th>\n",
       "      <th>대여개수</th>\n",
       "      <th>대기개수</th>\n",
       "      <th>기온</th>\n",
       "      <th>강수량</th>\n",
       "      <th>fix</th>\n",
       "    </tr>\n",
       "  </thead>\n",
       "  <tbody>\n",
       "    <tr>\n",
       "      <th>0</th>\n",
       "      <td>32</td>\n",
       "      <td>0</td>\n",
       "      <td>4164</td>\n",
       "      <td>20538</td>\n",
       "      <td>-3.9</td>\n",
       "      <td>0.0</td>\n",
       "      <td>1</td>\n",
       "    </tr>\n",
       "    <tr>\n",
       "      <th>1</th>\n",
       "      <td>32</td>\n",
       "      <td>1</td>\n",
       "      <td>43</td>\n",
       "      <td>24659</td>\n",
       "      <td>-3.9</td>\n",
       "      <td>0.1</td>\n",
       "      <td>1</td>\n",
       "    </tr>\n",
       "    <tr>\n",
       "      <th>2</th>\n",
       "      <td>32</td>\n",
       "      <td>2</td>\n",
       "      <td>11043</td>\n",
       "      <td>13659</td>\n",
       "      <td>-14.0</td>\n",
       "      <td>0.0</td>\n",
       "      <td>1</td>\n",
       "    </tr>\n",
       "    <tr>\n",
       "      <th>3</th>\n",
       "      <td>32</td>\n",
       "      <td>3</td>\n",
       "      <td>100</td>\n",
       "      <td>24602</td>\n",
       "      <td>-5.9</td>\n",
       "      <td>0.0</td>\n",
       "      <td>1</td>\n",
       "    </tr>\n",
       "    <tr>\n",
       "      <th>4</th>\n",
       "      <td>32</td>\n",
       "      <td>4</td>\n",
       "      <td>7271</td>\n",
       "      <td>17431</td>\n",
       "      <td>-5.9</td>\n",
       "      <td>0.0</td>\n",
       "      <td>1</td>\n",
       "    </tr>\n",
       "  </tbody>\n",
       "</table>\n",
       "</div>"
      ],
      "text/plain": [
       "   날짜  시간   대여개수   대기개수    기온  강수량  fix\n",
       "0  32   0   4164  20538  -3.9  0.0    1\n",
       "1  32   1     43  24659  -3.9  0.1    1\n",
       "2  32   2  11043  13659 -14.0  0.0    1\n",
       "3  32   3    100  24602  -5.9  0.0    1\n",
       "4  32   4   7271  17431  -5.9  0.0    1"
      ]
     },
     "execution_count": 24,
     "metadata": {},
     "output_type": "execute_result"
    }
   ],
   "source": [
    "# 전처리\n",
    "def preprocess(df):\n",
    "    df['날짜'] = df['날짜'].dt.dayofyear\n",
    "    df['시간'] = df['시간'].dt.hour\n",
    "    return df\n",
    "\n",
    "df_true = preprocess(df_train)\n",
    "df_false = preprocess(df_false)\n",
    "df_false.head()"
   ]
  },
  {
   "cell_type": "code",
   "execution_count": 25,
   "metadata": {},
   "outputs": [],
   "source": [
    "input_true = df_true.values\n",
    "input_false = df_false.values\n",
    "\n",
    "timesteps = 24\n",
    "n_features = input_true.shape[1]"
   ]
  },
  {
   "cell_type": "code",
   "execution_count": 12,
   "metadata": {},
   "outputs": [],
   "source": [
    "# 3차원화\n",
    "def temporalize(X, timesteps):\n",
    "\toutput_X = []\n",
    "\tfor i in range(len(X) - timesteps - 1):\n",
    "\t\tt = []\n",
    "\t\tfor j in range(1, timesteps + 1):\n",
    "\t\t\t# Gather the past records upto the lookback period\n",
    "\t\t\tt.append(X[[(i + j + 1)], :])\n",
    "\t\toutput_X.append(t)\n",
    "\treturn np.squeeze(np.array(output_X))"
   ]
  },
  {
   "cell_type": "code",
   "execution_count": 26,
   "metadata": {},
   "outputs": [
    {
     "name": "stdout",
     "output_type": "stream",
     "text": [
      "(8735, 24, 7)\n",
      "(2855, 24, 7)\n"
     ]
    }
   ],
   "source": [
    "x_true = temporalize(input_true, timesteps)\n",
    "x_false = temporalize(input_false, timesteps)\n",
    "print(x_true.shape)\n",
    "print(x_false.shape)"
   ]
  },
  {
   "cell_type": "code",
   "execution_count": 15,
   "metadata": {},
   "outputs": [],
   "source": [
    "def flatten(X):\n",
    "    flattened_X = np.empty((X.shape[0], X.shape[2]))  # sample x features array.\n",
    "    for i in range(X.shape[0]):\n",
    "        flattened_X[i] = X[i, (X.shape[1]-1), :]\n",
    "    return(flattened_X)\n",
    "\n",
    "def scale(X, scaler):\n",
    "    for i in range(X.shape[0]):\n",
    "        X[i, :, :] = scaler.transform(X[i, :, :])\n",
    "    return X\n",
    "\n",
    "def deScale(X, scaler):\n",
    "    for i in range(X.shape[0]):\n",
    "        X[i, :, :] = scaler.inverse_transform(X[i, :, :])\n",
    "    return X"
   ]
  },
  {
   "cell_type": "code",
   "execution_count": 29,
   "metadata": {},
   "outputs": [
    {
     "name": "stdout",
     "output_type": "stream",
     "text": [
      "(8735, 24, 7)\n",
      "(2855, 24, 7)\n"
     ]
    }
   ],
   "source": [
    "# 스케일링\n",
    "scaler = StandardScaler().fit(flatten(x_true))\n",
    "\n",
    "x_scale_true = scale(x_true, scaler)\n",
    "x_scale_false = scale(x_false, scaler)\n",
    "\n",
    "joblib.dump(scaler, \"./saved_model/scaler.pkl\")\n",
    "print(x_scale_true.shape)\n",
    "print(x_scale_false.shape)"
   ]
  },
  {
   "cell_type": "code",
   "execution_count": 30,
   "metadata": {},
   "outputs": [
    {
     "name": "stdout",
     "output_type": "stream",
     "text": [
      "(6988, 24, 7)\n"
     ]
    }
   ],
   "source": [
    "x_train, x_valid = train_test_split(x_scale_true, test_size=0.2)\n",
    "print(x_train.shape)"
   ]
  },
  {
   "cell_type": "code",
   "execution_count": 106,
   "metadata": {},
   "outputs": [],
   "source": [
    "epochs = 100000\n",
    "batch = 8192\n",
    "lr = 0.001"
   ]
  },
  {
   "cell_type": "code",
   "execution_count": null,
   "metadata": {},
   "outputs": [],
   "source": [
    "lstm_ae = models.Sequential()\n",
    "# Encoder\n",
    "lstm_ae.add(layers.LSTM(128, input_shape=(timesteps, n_features), return_sequences=True))\n",
    "lstm_ae.add(layers.LSTM(64, return_sequences=True))\n",
    "lstm_ae.add(layers.LSTM(32, return_sequences=True))\n",
    "lstm_ae.add(layers.LSTM(16, return_sequences=False))\n",
    "lstm_ae.add(layers.RepeatVector(timesteps))\n",
    "# Decoder\n",
    "lstm_ae.add(layers.LSTM(16, return_sequences=True))\n",
    "lstm_ae.add(layers.LSTM(32, return_sequences=True))\n",
    "lstm_ae.add(layers.LSTM(64, return_sequences=True))\n",
    "lstm_ae.add(layers.LSTM(128, return_sequences=True))\n",
    "lstm_ae.add(layers.TimeDistributed(layers.Dense(n_features)))\n",
    "\n",
    "lstm_ae.summary()"
   ]
  },
  {
   "cell_type": "code",
   "execution_count": null,
   "metadata": {},
   "outputs": [],
   "source": [
    "# 학습된 모델 로딩\n",
    "lstm_ae = tf.keras.models.load_model('./saved_model/v3/')\n",
    "lstm_ae.summary()"
   ]
  },
  {
   "cell_type": "code",
   "execution_count": 111,
   "metadata": {},
   "outputs": [
    {
     "name": "stdout",
     "output_type": "stream",
     "text": [
      "Epoch 1/100000\n"
     ]
    },
    {
     "name": "stderr",
     "output_type": "stream",
     "text": [
      "2022-09-07 05:54:46.002227: I tensorflow/stream_executor/cuda/cuda_dnn.cc:384] Loaded cuDNN version 8100\n"
     ]
    },
    {
     "name": "stdout",
     "output_type": "stream",
     "text": [
      "1/1 [==============================] - ETA: 0s - loss: 0.9903"
     ]
    }
   ],
   "source": [
    "# compile\n",
    "lstm_ae.compile(loss='mse', optimizer=optimizers.Adam(lr))\n",
    "\n",
    "# fit\n",
    "history = lstm_ae.fit(x_train, x_train,\n",
    "                     epochs=epochs, batch_size=batch,\n",
    "                     validation_data=(x_valid, x_valid))"
   ]
  },
  {
   "cell_type": "code",
   "execution_count": null,
   "metadata": {},
   "outputs": [],
   "source": [
    "plt.plot(history.history['loss'], label='train loss')\n",
    "plt.plot(history.history['val_loss'], label='valid loss')\n",
    "plt.legend()\n",
    "plt.xlabel('Epoch'); plt.ylabel('loss')\n",
    "plt.show()"
   ]
  },
  {
   "cell_type": "code",
   "execution_count": 31,
   "metadata": {},
   "outputs": [
    {
     "name": "stderr",
     "output_type": "stream",
     "text": [
      "2022-09-13 02:53:20.579235: I tensorflow/stream_executor/cuda/cuda_dnn.cc:384] Loaded cuDNN version 8100\n"
     ]
    },
    {
     "name": "stdout",
     "output_type": "stream",
     "text": [
      "90/90 [==============================] - 3s 4ms/step\n",
      "(2855, 24, 7)\n"
     ]
    }
   ],
   "source": [
    "predict_false = lstm_ae.predict(x_scale_false)\n",
    "print(predict_false.shape)"
   ]
  },
  {
   "cell_type": "code",
   "execution_count": 37,
   "metadata": {},
   "outputs": [
    {
     "name": "stdout",
     "output_type": "stream",
     "text": [
      "[[-1.54117727  1.68363726 -0.70506144 ... -1.45099688 -0.09519058\n",
      "   2.26492047]\n",
      " [-1.575459   -1.63591409 -0.98694408 ... -1.28486633 -0.10630637\n",
      "   2.08289933]\n",
      " [-1.66100085 -1.43587089 -1.0004518  ... -1.56400764 -0.18783849\n",
      "   2.32580042]\n",
      " ...\n",
      " [-1.29260588 -0.19544095 -1.02336967 ... -0.65015477  0.69426161\n",
      "  -0.66770834]\n",
      " [-1.30110097  0.92868078 -0.99927568 ... -0.3714304   1.19961238\n",
      "  -0.63035864]\n",
      " [-0.87642217  1.46437669  0.88996196 ...  0.43893445 -0.69685072\n",
      "  -0.46197158]]\n"
     ]
    }
   ],
   "source": [
    "inverse_pre_false = scaler.inverse_transform(flatten(predict_false))\n",
    "print(inverse_pre_false)"
   ]
  },
  {
   "cell_type": "code",
   "execution_count": 38,
   "metadata": {},
   "outputs": [
    {
     "name": "stdout",
     "output_type": "stream",
     "text": [
      "[[-1.4216021  -1.51720483 -0.43825896 ... -1.53990551 -0.13793825\n",
      "   2.32970389]\n",
      " [-1.4216021  -1.37272724 -1.13993177 ... -1.53990551 -0.13793825\n",
      "   2.32970389]\n",
      " [-1.4216021  -1.22824966  2.64666082 ... -2.28415327 -0.13793825\n",
      "   2.32970389]\n",
      " ...\n",
      " [-0.3032956   1.37234682  3.8935029  ...  0.56420236 -0.13793825\n",
      "  -0.4292391 ]\n",
      " [-0.3032956   1.5168244   5.79107024 ... -0.53838692 -0.13793825\n",
      "  -0.4292391 ]\n",
      " [-0.3032956   1.66130199  0.6432324  ...  0.47231992 -0.13793825\n",
      "  -0.4292391 ]]\n"
     ]
    }
   ],
   "source": [
    "inverse_x_false = scaler.inverse_transform(flatten(x_scale_false))\n",
    "print(inverse_x_false)"
   ]
  },
  {
   "cell_type": "code",
   "execution_count": 78,
   "metadata": {},
   "outputs": [
    {
     "name": "stdout",
     "output_type": "stream",
     "text": [
      "90/90 [==============================] - 0s 4ms/step\n"
     ]
    },
    {
     "data": {
      "image/png": "[encoded data removed]",
      "text/plain": [
       "<Figure size 432x288 with 1 Axes>"
      ]
     },
     "metadata": {
      "needs_background": "light"
     },
     "output_type": "display_data"
    }
   ],
   "source": [
    "predict_false = lstm_ae.predict(x_scale_false)\n",
    "mse_false = np.mean(np.power(flatten(x_scale_false) - flatten(predict_false), 2), axis=1)\n",
    "\n",
    "plt.plot(np.linspace(0, len(mse_false)-1, len(mse_false)), mse_false)\n",
    "plt.ylim([0, 0.1])\n",
    "plt.title('False Data')\n",
    "plt.ylabel('mse')\n",
    "plt.xlabel('num of sample data')\n",
    "plt.show()"
   ]
  },
  {
   "cell_type": "code",
   "execution_count": 81,
   "metadata": {},
   "outputs": [
    {
     "data": {
      "text/plain": [
       "1.4803754789791304"
      ]
     },
     "execution_count": 81,
     "metadata": {},
     "output_type": "execute_result"
    }
   ],
   "source": [
    "mse_false[0]"
   ]
  },
  {
   "cell_type": "code",
   "execution_count": 64,
   "metadata": {},
   "outputs": [
    {
     "name": "stdout",
     "output_type": "stream",
     "text": [
      "55/55 [==============================] - 0s 4ms/step\n"
     ]
    },
    {
     "data": {
      "image/png": "[encoded data removed]",
      "text/plain": [
       "<Figure size 432x288 with 1 Axes>"
      ]
     },
     "metadata": {
      "needs_background": "light"
     },
     "output_type": "display_data"
    }
   ],
   "source": [
    "predict_valid = lstm_ae.predict(x_valid)\n",
    "mse_valid = np.mean(np.power(flatten(x_valid) - flatten(predict_valid), 2), axis=1)\n",
    "\n",
    "plt.plot(np.linspace(0, len(mse_valid)-1, len(mse_valid)), mse_valid)\n",
    "plt.ylim([0, 0.1])\n",
    "plt.title('True Data')\n",
    "plt.ylabel('mse')\n",
    "plt.xlabel('num of sample data')\n",
    "plt.show()"
   ]
  },
  {
   "cell_type": "code",
   "execution_count": 45,
   "metadata": {},
   "outputs": [
    {
     "name": "stdout",
     "output_type": "stream",
     "text": [
      "(2855, 24, 7)\n"
     ]
    }
   ],
   "source": [
    "# 특정 mse 기준으로 어떻게 데이터가 나뉘는지 확인\n",
    "threshold_mse = 0.02\n",
    "\n",
    "print(predict_false.shape)"
   ]
  },
  {
   "cell_type": "code",
   "execution_count": 65,
   "metadata": {},
   "outputs": [
    {
     "name": "stdout",
     "output_type": "stream",
     "text": [
      "14\n",
      "2841\n",
      "1698\n",
      "49\n"
     ]
    }
   ],
   "source": [
    "false_but_true = x_scale_false[mse_false <= threshold_mse].shape[0]\n",
    "false_but_false = x_scale_false[mse_false > threshold_mse].shape[0]\n",
    "true_but_true = x_valid[mse_valid <= threshold_mse].shape[0]\n",
    "true_but_false = x_valid[mse_valid > threshold_mse].shape[0]\n",
    "print(false_but_true)\n",
    "print(false_but_false)\n",
    "print(true_but_true)\n",
    "print(true_but_false)"
   ]
  },
  {
   "cell_type": "code",
   "execution_count": 66,
   "metadata": {},
   "outputs": [
    {
     "name": "stdout",
     "output_type": "stream",
     "text": [
      "정밀도 :  0.991822429906542\n",
      "재현율 :  0.9719519175729823\n"
     ]
    }
   ],
   "source": [
    "# 정밀도&재현율 계산\n",
    "print(\"정밀도 : \", true_but_true/(true_but_true + false_but_true))\n",
    "print(\"재현율 : \", true_but_true/(true_but_true + true_but_false))"
   ]
  },
  {
   "cell_type": "code",
   "execution_count": 112,
   "metadata": {},
   "outputs": [
    {
     "name": "stderr",
     "output_type": "stream",
     "text": [
      "WARNING:absl:Found untraced functions such as lstm_cell_16_layer_call_fn, lstm_cell_16_layer_call_and_return_conditional_losses, lstm_cell_17_layer_call_fn, lstm_cell_17_layer_call_and_return_conditional_losses, lstm_cell_18_layer_call_fn while saving (showing 5 of 16). These functions will not be directly callable after loading.\n"
     ]
    },
    {
     "name": "stdout",
     "output_type": "stream",
     "text": [
      "INFO:tensorflow:Assets written to: saved_model/v3/assets\n"
     ]
    },
    {
     "name": "stderr",
     "output_type": "stream",
     "text": [
      "INFO:tensorflow:Assets written to: saved_model/v3/assets\n"
     ]
    }
   ],
   "source": [
    "# 모델 저장\n",
    "lstm_ae.save('saved_model/v3')"
   ]
  }
 ],
 "metadata": {
  "kernelspec": {
   "display_name": "Python 3 (ipykernel)",
   "language": "python",
   "name": "python3"
  },
  "vscode": {
   "interpreter": {
    "hash": "a40abf0e8e626068dc1e9bd544b994fd0b32c1b4bc99836ffc89da51cc3d61ca"
   }
  }
 },
 "nbformat": 4,
 "nbformat_minor": 4
}
